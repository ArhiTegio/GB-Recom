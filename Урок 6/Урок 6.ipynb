{
 "cells": [
  {
   "cell_type": "markdown",
   "metadata": {},
   "source": [
    "# Домашнее задание"
   ]
  },
  {
   "cell_type": "code",
   "execution_count": 3,
   "metadata": {},
   "outputs": [
    {
     "name": "stdout",
     "output_type": "stream",
     "text": [
      "Collecting lightgbm\n",
      "  Downloading lightgbm-3.2.1-py3-none-win_amd64.whl (1.0 MB)\n",
      "Requirement already satisfied: scikit-learn!=0.22.0 in c:\\programdata\\anaconda3\\lib\\site-packages (from lightgbm) (0.23.2)\n",
      "Requirement already satisfied: wheel in c:\\programdata\\anaconda3\\lib\\site-packages (from lightgbm) (0.35.1)\n",
      "Requirement already satisfied: scipy in c:\\programdata\\anaconda3\\lib\\site-packages (from lightgbm) (1.5.2)\n",
      "Requirement already satisfied: numpy in c:\\programdata\\anaconda3\\lib\\site-packages (from lightgbm) (1.19.2)\n",
      "Requirement already satisfied: threadpoolctl>=2.0.0 in c:\\programdata\\anaconda3\\lib\\site-packages (from scikit-learn!=0.22.0->lightgbm) (2.1.0)\n",
      "Requirement already satisfied: joblib>=0.11 in c:\\programdata\\anaconda3\\lib\\site-packages (from scikit-learn!=0.22.0->lightgbm) (0.17.0)\n",
      "Installing collected packages: lightgbm\n",
      "Successfully installed lightgbm-3.2.1\n"
     ]
    }
   ],
   "source": [
    "!pip install lightgbm"
   ]
  },
  {
   "cell_type": "code",
   "execution_count": 5,
   "metadata": {},
   "outputs": [
    {
     "name": "stdout",
     "output_type": "stream",
     "text": [
      "Collecting catboost\n",
      "  Downloading catboost-0.25.1-cp38-none-win_amd64.whl (66.9 MB)\n",
      "Collecting graphviz\n",
      "  Downloading graphviz-0.16-py2.py3-none-any.whl (19 kB)\n",
      "Requirement already satisfied: matplotlib in c:\\programdata\\anaconda3\\lib\\site-packages (from catboost) (3.3.2)\n",
      "Requirement already satisfied: numpy>=1.16.0 in c:\\programdata\\anaconda3\\lib\\site-packages (from catboost) (1.19.2)\n",
      "Collecting plotly\n",
      "  Downloading plotly-4.14.3-py2.py3-none-any.whl (13.2 MB)\n",
      "Requirement already satisfied: scipy in c:\\programdata\\anaconda3\\lib\\site-packages (from catboost) (1.5.2)\n",
      "Requirement already satisfied: six in c:\\programdata\\anaconda3\\lib\\site-packages (from catboost) (1.15.0)\n",
      "Requirement already satisfied: pandas>=0.24.0 in c:\\programdata\\anaconda3\\lib\\site-packages (from catboost) (1.1.3)\n",
      "Requirement already satisfied: python-dateutil>=2.1 in c:\\programdata\\anaconda3\\lib\\site-packages (from matplotlib->catboost) (2.8.1)\n",
      "Requirement already satisfied: pyparsing!=2.0.4,!=2.1.2,!=2.1.6,>=2.0.3 in c:\\programdata\\anaconda3\\lib\\site-packages (from matplotlib->catboost) (2.4.7)\n",
      "Requirement already satisfied: kiwisolver>=1.0.1 in c:\\programdata\\anaconda3\\lib\\site-packages (from matplotlib->catboost) (1.3.0)\n",
      "Requirement already satisfied: certifi>=2020.06.20 in c:\\programdata\\anaconda3\\lib\\site-packages (from matplotlib->catboost) (2020.6.20)\n",
      "Requirement already satisfied: cycler>=0.10 in c:\\programdata\\anaconda3\\lib\\site-packages (from matplotlib->catboost) (0.10.0)\n",
      "Requirement already satisfied: pillow>=6.2.0 in c:\\programdata\\anaconda3\\lib\\site-packages (from matplotlib->catboost) (8.0.1)\n",
      "Collecting retrying>=1.3.3\n",
      "  Downloading retrying-1.3.3.tar.gz (10 kB)\n",
      "Requirement already satisfied: pytz>=2017.2 in c:\\programdata\\anaconda3\\lib\\site-packages (from pandas>=0.24.0->catboost) (2020.1)\n",
      "Building wheels for collected packages: retrying\n",
      "  Building wheel for retrying (setup.py): started\n",
      "  Building wheel for retrying (setup.py): finished with status 'done'\n",
      "  Created wheel for retrying: filename=retrying-1.3.3-py3-none-any.whl size=11434 sha256=809748b3b43cd134252a4eef545a0201d6b0cd74451bd9795d89a7eb8664de14\n",
      "  Stored in directory: c:\\users\\виктор\\appdata\\local\\pip\\cache\\wheels\\c4\\a7\\48\\0a434133f6d56e878ca511c0e6c38326907c0792f67b476e56\n",
      "Successfully built retrying\n",
      "Installing collected packages: graphviz, retrying, plotly, catboost\n",
      "Successfully installed catboost-0.25.1 graphviz-0.16 plotly-4.14.3 retrying-1.3.3\n"
     ]
    }
   ],
   "source": [
    "!pip install catboost"
   ]
  },
  {
   "cell_type": "code",
   "execution_count": 7,
   "metadata": {},
   "outputs": [],
   "source": [
    "import pandas as pd\n",
    "import numpy as np\n",
    "import matplotlib.pyplot as plt\n",
    "%matplotlib inline\n",
    "\n",
    "# Для работы с матрицами\n",
    "from scipy.sparse import csr_matrix\n",
    "\n",
    "# Матричная факторизация\n",
    "from implicit import als\n",
    "\n",
    "# Модель второго уровня\n",
    "from lightgbm import LGBMClassifier\n",
    "from catboost import CatBoostClassifier, Pool\n",
    "\n",
    "import os, sys\n",
    "module_path = os.path.abspath(os.path.join(os.pardir))\n",
    "if module_path not in sys.path:\n",
    "    sys.path.append(module_path)\n",
    "\n",
    "# Написанные нами функции\n",
    "from metrics import precision_at_k, recall_at_k\n",
    "from utils import prefilter_items\n",
    "from recommenders import MainRecommender"
   ]
  },
  {
   "cell_type": "markdown",
   "metadata": {},
   "source": [
    "Чтение данных"
   ]
  },
  {
   "cell_type": "code",
   "execution_count": 79,
   "metadata": {},
   "outputs": [],
   "source": [
    "data = pd.read_csv('../data/retail_train.csv')\n",
    "item_features = pd.read_csv('../data/product.csv')\n",
    "user_features = pd.read_csv('../data/hh_demographic.csv')"
   ]
  },
  {
   "cell_type": "markdown",
   "metadata": {},
   "source": [
    "Генерация факторов"
   ]
  },
  {
   "cell_type": "code",
   "execution_count": 9,
   "metadata": {},
   "outputs": [],
   "source": [
    "ITEM_COL = 'item_id'\n",
    "USER_COL = 'user_id'"
   ]
  },
  {
   "cell_type": "code",
   "execution_count": 10,
   "metadata": {},
   "outputs": [],
   "source": [
    "# column processing\n",
    "item_features.columns = [col.lower() for col in item_features.columns]\n",
    "user_features.columns = [col.lower() for col in user_features.columns]\n",
    "\n",
    "item_features.rename(columns={'product_id': ITEM_COL}, inplace=True)\n",
    "user_features.rename(columns={'household_key': USER_COL }, inplace=True)"
   ]
  },
  {
   "cell_type": "markdown",
   "metadata": {},
   "source": [
    "Разделение на тренировочные и тестовые данные"
   ]
  },
  {
   "cell_type": "code",
   "execution_count": 11,
   "metadata": {},
   "outputs": [],
   "source": [
    "# Важна схема обучения и валидации!\n",
    "# -- давние покупки -- | -- 6 недель -- | -- 3 недель -- \n",
    "# подобрать размер 2-ого датасета (6 недель) --> learning curve (зависимость метрики recall@k от размера датасета)\n",
    "\n",
    "\n",
    "VAL_MATCHER_WEEKS = 6\n",
    "VAL_RANKER_WEEKS = 3"
   ]
  },
  {
   "cell_type": "code",
   "execution_count": 12,
   "metadata": {},
   "outputs": [],
   "source": [
    "# берем данные для тренировки matching модели\n",
    "data_train_matcher = data[data['week_no'] < data['week_no'].max() - (VAL_MATCHER_WEEKS + VAL_RANKER_WEEKS)]\n",
    "\n",
    "# берем данные для валидации matching модели\n",
    "data_val_matcher = data[(data['week_no'] >= data['week_no'].max() - (VAL_MATCHER_WEEKS + VAL_RANKER_WEEKS)) &\n",
    "                      (data['week_no'] < data['week_no'].max() - (VAL_RANKER_WEEKS))]\n",
    "\n",
    "\n",
    "# берем данные для тренировки ranking модели\n",
    "data_train_ranker = data_val_matcher.copy()  # Для наглядности. Далее мы добавим изменения, и они будут отличаться\n",
    "\n",
    "# берем данные для теста ranking, matching модели\n",
    "data_val_ranker = data[data['week_no'] >= data['week_no'].max() - VAL_RANKER_WEEKS]"
   ]
  },
  {
   "cell_type": "code",
   "execution_count": 13,
   "metadata": {},
   "outputs": [],
   "source": [
    "def print_stats_data(df_data, name_df):\n",
    "    print(name_df)\n",
    "    print(f\"Shape: {df_data.shape} Users: {df_data[USER_COL].nunique()} Items: {df_data[ITEM_COL].nunique()}\")"
   ]
  },
  {
   "cell_type": "code",
   "execution_count": 14,
   "metadata": {},
   "outputs": [
    {
     "name": "stdout",
     "output_type": "stream",
     "text": [
      "train_matcher\n",
      "Shape: (2108779, 12) Users: 2498 Items: 83685\n",
      "val_matcher\n",
      "Shape: (169711, 12) Users: 2154 Items: 27649\n",
      "train_ranker\n",
      "Shape: (169711, 12) Users: 2154 Items: 27649\n",
      "val_ranker\n",
      "Shape: (118314, 12) Users: 2042 Items: 24329\n"
     ]
    }
   ],
   "source": [
    "print_stats_data(data_train_matcher,'train_matcher')\n",
    "print_stats_data(data_val_matcher,'val_matcher')\n",
    "print_stats_data(data_train_ranker,'train_ranker')\n",
    "print_stats_data(data_val_ranker,'val_ranker')"
   ]
  },
  {
   "cell_type": "code",
   "execution_count": 15,
   "metadata": {},
   "outputs": [
    {
     "data": {
      "text/html": [
       "<div>\n",
       "<style scoped>\n",
       "    .dataframe tbody tr th:only-of-type {\n",
       "        vertical-align: middle;\n",
       "    }\n",
       "\n",
       "    .dataframe tbody tr th {\n",
       "        vertical-align: top;\n",
       "    }\n",
       "\n",
       "    .dataframe thead th {\n",
       "        text-align: right;\n",
       "    }\n",
       "</style>\n",
       "<table border=\"1\" class=\"dataframe\">\n",
       "  <thead>\n",
       "    <tr style=\"text-align: right;\">\n",
       "      <th></th>\n",
       "      <th>user_id</th>\n",
       "      <th>basket_id</th>\n",
       "      <th>day</th>\n",
       "      <th>item_id</th>\n",
       "      <th>quantity</th>\n",
       "      <th>sales_value</th>\n",
       "      <th>store_id</th>\n",
       "      <th>retail_disc</th>\n",
       "      <th>trans_time</th>\n",
       "      <th>week_no</th>\n",
       "      <th>coupon_disc</th>\n",
       "      <th>coupon_match_disc</th>\n",
       "    </tr>\n",
       "  </thead>\n",
       "  <tbody>\n",
       "    <tr>\n",
       "      <th>0</th>\n",
       "      <td>2375</td>\n",
       "      <td>26984851472</td>\n",
       "      <td>1</td>\n",
       "      <td>1004906</td>\n",
       "      <td>1</td>\n",
       "      <td>1.39</td>\n",
       "      <td>364</td>\n",
       "      <td>-0.6</td>\n",
       "      <td>1631</td>\n",
       "      <td>1</td>\n",
       "      <td>0.0</td>\n",
       "      <td>0.0</td>\n",
       "    </tr>\n",
       "    <tr>\n",
       "      <th>1</th>\n",
       "      <td>2375</td>\n",
       "      <td>26984851472</td>\n",
       "      <td>1</td>\n",
       "      <td>1033142</td>\n",
       "      <td>1</td>\n",
       "      <td>0.82</td>\n",
       "      <td>364</td>\n",
       "      <td>0.0</td>\n",
       "      <td>1631</td>\n",
       "      <td>1</td>\n",
       "      <td>0.0</td>\n",
       "      <td>0.0</td>\n",
       "    </tr>\n",
       "  </tbody>\n",
       "</table>\n",
       "</div>"
      ],
      "text/plain": [
       "   user_id    basket_id  day  item_id  quantity  sales_value  store_id  \\\n",
       "0     2375  26984851472    1  1004906         1         1.39       364   \n",
       "1     2375  26984851472    1  1033142         1         0.82       364   \n",
       "\n",
       "   retail_disc  trans_time  week_no  coupon_disc  coupon_match_disc  \n",
       "0         -0.6        1631        1          0.0                0.0  \n",
       "1          0.0        1631        1          0.0                0.0  "
      ]
     },
     "execution_count": 15,
     "metadata": {},
     "output_type": "execute_result"
    }
   ],
   "source": [
    "# выше видим разброс по пользователям и товарам\n",
    "data_train_matcher.head(2)"
   ]
  },
  {
   "cell_type": "markdown",
   "metadata": {},
   "source": [
    "Префильтрация товаров"
   ]
  },
  {
   "cell_type": "code",
   "execution_count": 16,
   "metadata": {},
   "outputs": [
    {
     "name": "stderr",
     "output_type": "stream",
     "text": [
      "d:\\git\\GB-Рекомендательные системы\\Урок 6\\utils.py:20: SettingWithCopyWarning: \n",
      "A value is trying to be set on a copy of a slice from a DataFrame.\n",
      "Try using .loc[row_indexer,col_indexer] = value instead\n",
      "\n",
      "See the caveats in the documentation: https://pandas.pydata.org/pandas-docs/stable/user_guide/indexing.html#returning-a-view-versus-a-copy\n",
      "  data['price'] = data['sales_value'] / (np.maximum(data['quantity'], 1))\n"
     ]
    },
    {
     "name": "stdout",
     "output_type": "stream",
     "text": [
      "Decreased # items from 83685 to 5001\n"
     ]
    }
   ],
   "source": [
    "n_items_before = data_train_matcher['item_id'].nunique()\n",
    "\n",
    "data_train_matcher = prefilter_items(data_train_matcher, item_features=item_features, take_n_popular=5000)\n",
    "\n",
    "n_items_after = data_train_matcher['item_id'].nunique()\n",
    "print('Decreased # items from {} to {}'.format(n_items_before, n_items_after))"
   ]
  },
  {
   "cell_type": "markdown",
   "metadata": {},
   "source": [
    "Перевод с холодного на теплый старт"
   ]
  },
  {
   "cell_type": "code",
   "execution_count": 17,
   "metadata": {},
   "outputs": [
    {
     "name": "stdout",
     "output_type": "stream",
     "text": [
      "train_matcher\n",
      "Shape: (784420, 13) Users: 1915 Items: 4999\n",
      "val_matcher\n",
      "Shape: (163261, 12) Users: 1915 Items: 27118\n",
      "train_ranker\n",
      "Shape: (163261, 12) Users: 1915 Items: 27118\n",
      "val_ranker\n",
      "Shape: (115989, 12) Users: 1915 Items: 24042\n"
     ]
    }
   ],
   "source": [
    "# ищем общих пользователей\n",
    "common_users = list(set(data_train_matcher.user_id.values)&(set(data_val_matcher.user_id.values))&set(data_val_ranker.user_id.values))\n",
    "\n",
    "data_train_matcher = data_train_matcher[data_train_matcher.user_id.isin(common_users)]\n",
    "data_val_matcher = data_val_matcher[data_val_matcher.user_id.isin(common_users)]\n",
    "data_train_ranker = data_train_ranker[data_train_ranker.user_id.isin(common_users)]\n",
    "data_val_ranker = data_val_ranker[data_val_ranker.user_id.isin(common_users)]\n",
    "\n",
    "print_stats_data(data_train_matcher,'train_matcher')\n",
    "print_stats_data(data_val_matcher,'val_matcher')\n",
    "print_stats_data(data_train_ranker,'train_ranker')\n",
    "print_stats_data(data_val_ranker,'val_ranker')"
   ]
  },
  {
   "cell_type": "markdown",
   "metadata": {},
   "source": [
    "Тренировка рекомаендательной системы"
   ]
  },
  {
   "cell_type": "code",
   "execution_count": 18,
   "metadata": {},
   "outputs": [
    {
     "name": "stderr",
     "output_type": "stream",
     "text": [
      "WARNING:root:Intel MKL BLAS detected. Its highly recommend to set the environment variable 'export MKL_NUM_THREADS=1' to disable its internal multithreading\n"
     ]
    },
    {
     "data": {
      "application/vnd.jupyter.widget-view+json": {
       "model_id": "593d9ef6b4dc4b8abe006de8e0de38c5",
       "version_major": 2,
       "version_minor": 0
      },
      "text/plain": [
       "HBox(children=(HTML(value=''), FloatProgress(value=0.0, max=15.0), HTML(value='')))"
      ]
     },
     "metadata": {},
     "output_type": "display_data"
    },
    {
     "name": "stdout",
     "output_type": "stream",
     "text": [
      "\n"
     ]
    },
    {
     "data": {
      "application/vnd.jupyter.widget-view+json": {
       "model_id": "23cb8e06ccfa45aab383149202d6595c",
       "version_major": 2,
       "version_minor": 0
      },
      "text/plain": [
       "HBox(children=(HTML(value=''), FloatProgress(value=0.0, max=4999.0), HTML(value='')))"
      ]
     },
     "metadata": {},
     "output_type": "display_data"
    },
    {
     "name": "stdout",
     "output_type": "stream",
     "text": [
      "\n"
     ]
    }
   ],
   "source": [
    "recommender = MainRecommender(data_train_matcher)"
   ]
  },
  {
   "cell_type": "code",
   "execution_count": 19,
   "metadata": {},
   "outputs": [
    {
     "data": {
      "text/plain": [
       "[899624, 1106523, 925862, 871756, 1044078]"
      ]
     },
     "execution_count": 19,
     "metadata": {},
     "output_type": "execute_result"
    }
   ],
   "source": [
    "# Берем тестового юзера 2375\n",
    "recommender.get_als_recommendations(2375, N=5)"
   ]
  },
  {
   "cell_type": "code",
   "execution_count": 20,
   "metadata": {},
   "outputs": [
    {
     "data": {
      "text/plain": [
       "[948640, 918046, 847962, 907099, 873980]"
      ]
     },
     "execution_count": 20,
     "metadata": {},
     "output_type": "execute_result"
    }
   ],
   "source": [
    "recommender.get_own_recommendations(2375, N=5)"
   ]
  },
  {
   "cell_type": "code",
   "execution_count": 21,
   "metadata": {},
   "outputs": [
    {
     "data": {
      "text/plain": [
       "[1046545, 1044078, 1044078, 1012584, 15778319]"
      ]
     },
     "execution_count": 21,
     "metadata": {},
     "output_type": "execute_result"
    }
   ],
   "source": [
    "recommender.get_similar_items_recommendation(2375, N=5)"
   ]
  },
  {
   "cell_type": "code",
   "execution_count": 22,
   "metadata": {},
   "outputs": [
    {
     "data": {
      "text/plain": [
       "[1133654, 825317, 1097398, 950935, 891632]"
      ]
     },
     "execution_count": 22,
     "metadata": {},
     "output_type": "execute_result"
    }
   ],
   "source": [
    "recommender.get_similar_users_recommendation(2375, N=5)"
   ]
  },
  {
   "cell_type": "markdown",
   "metadata": {},
   "source": [
    "Анализ отклика для мачинга"
   ]
  },
  {
   "cell_type": "markdown",
   "metadata": {},
   "source": [
    "### Измеряем recall@k"
   ]
  },
  {
   "cell_type": "markdown",
   "metadata": {},
   "source": [
    "**Задание 1.**\n",
    "\n",
    "A) Попробуйте различные варианты генерации кандидатов. Какие из них дают наибольший recall@k ?\n",
    "- Пока пробуем отобрать 50 кандидатов (k=50)\n",
    "- Качество измеряем на data_val_matcher: следующие 6 недель после трейна\n",
    "\n",
    "Дают ли own recommendtions + top-popular лучший recall?  \n",
    "\n",
    "B)* Как зависит recall@k от k? Постройте для одной схемы генерации кандидатов эту зависимость для k = {20, 50, 100, 200, 500}  \n",
    "C)* Исходя из прошлого вопроса, как вы думаете, какое значение k является наиболее разумным?"
   ]
  },
  {
   "cell_type": "code",
   "execution_count": 24,
   "metadata": {},
   "outputs": [],
   "source": [
    "ACTUAL_COL = 'actual'"
   ]
  },
  {
   "cell_type": "code",
   "execution_count": 25,
   "metadata": {},
   "outputs": [
    {
     "data": {
      "text/html": [
       "<div>\n",
       "<style scoped>\n",
       "    .dataframe tbody tr th:only-of-type {\n",
       "        vertical-align: middle;\n",
       "    }\n",
       "\n",
       "    .dataframe tbody tr th {\n",
       "        vertical-align: top;\n",
       "    }\n",
       "\n",
       "    .dataframe thead th {\n",
       "        text-align: right;\n",
       "    }\n",
       "</style>\n",
       "<table border=\"1\" class=\"dataframe\">\n",
       "  <thead>\n",
       "    <tr style=\"text-align: right;\">\n",
       "      <th></th>\n",
       "      <th>user_id</th>\n",
       "      <th>actual</th>\n",
       "    </tr>\n",
       "  </thead>\n",
       "  <tbody>\n",
       "    <tr>\n",
       "      <th>0</th>\n",
       "      <td>1</td>\n",
       "      <td>[853529, 865456, 867607, 872137, 874905, 87524...</td>\n",
       "    </tr>\n",
       "    <tr>\n",
       "      <th>1</th>\n",
       "      <td>6</td>\n",
       "      <td>[1024306, 1102949, 6548453, 835394, 940804, 96...</td>\n",
       "    </tr>\n",
       "  </tbody>\n",
       "</table>\n",
       "</div>"
      ],
      "text/plain": [
       "   user_id                                             actual\n",
       "0        1  [853529, 865456, 867607, 872137, 874905, 87524...\n",
       "1        6  [1024306, 1102949, 6548453, 835394, 940804, 96..."
      ]
     },
     "execution_count": 25,
     "metadata": {},
     "output_type": "execute_result"
    }
   ],
   "source": [
    "result_eval_matcher = data_val_matcher.groupby(USER_COL)[ITEM_COL].unique().reset_index()\n",
    "result_eval_matcher.columns=[USER_COL, ACTUAL_COL]\n",
    "result_eval_matcher.head(2)"
   ]
  },
  {
   "cell_type": "code",
   "execution_count": 31,
   "metadata": {},
   "outputs": [],
   "source": [
    "# # сырой и простой пример как можно обернуть в функцию\n",
    "def evalRecall(df_result, target_col_name, recommend_model):\n",
    "    result_col_name = 'result'\n",
    "    df_result[result_col_name] = df_result[target_col_name].apply(lambda x: recommend_model(x, N=25))\n",
    "    return df_result.apply(lambda row: recall_at_k(row[result_col_name], row[ACTUAL_COL], k=N_PREDICT), axis=1).mean()"
   ]
  },
  {
   "cell_type": "code",
   "execution_count": 32,
   "metadata": {},
   "outputs": [],
   "source": [
    "def calc_recall(df_data, top_k):\n",
    "    for col_name in df_data.columns[2:]:\n",
    "        yield col_name, df_data.apply(lambda row: recall_at_k(row[col_name], row[ACTUAL_COL], k=top_k), axis=1).mean()"
   ]
  },
  {
   "cell_type": "code",
   "execution_count": 33,
   "metadata": {},
   "outputs": [],
   "source": [
    "def calc_precision(df_data, top_k):\n",
    "    for col_name in df_data.columns[2:]:\n",
    "        yield col_name, df_data.apply(lambda row: precision_at_k(row[col_name], row[ACTUAL_COL], k=top_k), axis=1).mean()"
   ]
  },
  {
   "cell_type": "code",
   "execution_count": 34,
   "metadata": {},
   "outputs": [],
   "source": [
    "# N = Neighbors\n",
    "N_PREDICT = 50 "
   ]
  },
  {
   "cell_type": "code",
   "execution_count": 45,
   "metadata": {},
   "outputs": [
    {
     "name": "stdout",
     "output_type": "stream",
     "text": [
      "При N_пред = 20, N_отклик = 20:\n",
      "own_rec = 0.0364815577009746\n",
      "recall_als_rec = 0.029294853127789962\n",
      "recall_sim_item_rec = 0.015771703271525182\n",
      "recall_sim_user_rec = 0.004197192714877655\n",
      "own_rec = 0.110783289817233\n",
      "precision_als_rec = 0.0841253263707572\n",
      "precision_sim_item_rec = 0.048250652741513814\n",
      "precision_sim_user_rec = 0.009373368146214141\n",
      "\n",
      "При N_пред = 20, N_отклик = 50:\n",
      "own_rec = 0.0364815577009746\n",
      "recall_als_rec = 0.029294853127789962\n",
      "recall_sim_item_rec = 0.015771703271525182\n",
      "recall_sim_user_rec = 0.006938881558790301\n",
      "own_rec = 0.110783289817233\n",
      "precision_als_rec = 0.0841253263707572\n",
      "precision_sim_item_rec = 0.048250652741513814\n",
      "precision_sim_user_rec = 0.0071122715404699005\n",
      "\n",
      "При N_пред = 20, N_отклик = 100:\n",
      "own_rec = 0.0364815577009746\n",
      "recall_als_rec = 0.029294853127789962\n",
      "recall_sim_item_rec = 0.015771703271525182\n",
      "recall_sim_user_rec = 0.006938881558790301\n",
      "own_rec = 0.110783289817233\n",
      "precision_als_rec = 0.0841253263707572\n",
      "precision_sim_item_rec = 0.048250652741513814\n",
      "precision_sim_user_rec = 0.0071122715404699005\n",
      "\n",
      "При N_пред = 20, N_отклик = 120:\n",
      "own_rec = 0.0364815577009746\n",
      "recall_als_rec = 0.029294853127789962\n",
      "recall_sim_item_rec = 0.015771703271525182\n",
      "recall_sim_user_rec = 0.006938881558790301\n",
      "own_rec = 0.110783289817233\n",
      "precision_als_rec = 0.0841253263707572\n",
      "precision_sim_item_rec = 0.048250652741513814\n",
      "precision_sim_user_rec = 0.0071122715404699005\n",
      "\n",
      "При N_пред = 20, N_отклик = 150:\n",
      "own_rec = 0.0364815577009746\n",
      "recall_als_rec = 0.029294853127789962\n",
      "recall_sim_item_rec = 0.015771703271525182\n",
      "recall_sim_user_rec = 0.006938881558790301\n",
      "own_rec = 0.110783289817233\n",
      "precision_als_rec = 0.0841253263707572\n",
      "precision_sim_item_rec = 0.048250652741513814\n",
      "precision_sim_user_rec = 0.0071122715404699005\n",
      "\n",
      "При N_пред = 20, N_отклик = 200:\n",
      "own_rec = 0.0364815577009746\n",
      "recall_als_rec = 0.029294853127789962\n",
      "recall_sim_item_rec = 0.015771703271525182\n",
      "recall_sim_user_rec = 0.006938881558790301\n",
      "own_rec = 0.110783289817233\n",
      "precision_als_rec = 0.0841253263707572\n",
      "precision_sim_item_rec = 0.048250652741513814\n",
      "precision_sim_user_rec = 0.0071122715404699005\n",
      "\n",
      "При N_пред = 20, N_отклик = 500:\n",
      "own_rec = 0.0364815577009746\n",
      "recall_als_rec = 0.029294853127789962\n",
      "recall_sim_item_rec = 0.015771703271525182\n",
      "recall_sim_user_rec = 0.006938881558790301\n",
      "own_rec = 0.110783289817233\n",
      "precision_als_rec = 0.0841253263707572\n",
      "precision_sim_item_rec = 0.048250652741513814\n",
      "precision_sim_user_rec = 0.0071122715404699005\n",
      "\n",
      "При N_пред = 50, N_отклик = 20:\n",
      "own_rec = 0.0364815577009746\n",
      "recall_als_rec = 0.029294853127789962\n",
      "recall_sim_item_rec = 0.015771703271525182\n",
      "recall_sim_user_rec = 0.004197192714877655\n",
      "own_rec = 0.110783289817233\n",
      "precision_als_rec = 0.0841253263707572\n",
      "precision_sim_item_rec = 0.048250652741513814\n",
      "precision_sim_user_rec = 0.009373368146214141\n",
      "\n",
      "При N_пред = 50, N_отклик = 50:\n",
      "own_rec = 0.061684201353290766\n",
      "recall_als_rec = 0.04695721113191962\n",
      "recall_sim_item_rec = 0.031078689163246277\n",
      "recall_sim_user_rec = 0.006938881558790301\n",
      "own_rec = 0.07660574412532668\n",
      "precision_als_rec = 0.059665796344647706\n",
      "precision_sim_item_rec = 0.03848563968668425\n",
      "precision_sim_user_rec = 0.0071122715404699005\n",
      "\n",
      "При N_пред = 50, N_отклик = 100:\n",
      "own_rec = 0.061684201353290766\n",
      "recall_als_rec = 0.04695721113191962\n",
      "recall_sim_item_rec = 0.031078689163246277\n",
      "recall_sim_user_rec = 0.006938881558790301\n",
      "own_rec = 0.07660574412532668\n",
      "precision_als_rec = 0.059665796344647706\n",
      "precision_sim_item_rec = 0.03848563968668425\n",
      "precision_sim_user_rec = 0.0071122715404699005\n",
      "\n",
      "При N_пред = 50, N_отклик = 120:\n",
      "own_rec = 0.061684201353290766\n",
      "recall_als_rec = 0.04695721113191962\n",
      "recall_sim_item_rec = 0.031078689163246277\n",
      "recall_sim_user_rec = 0.006938881558790301\n",
      "own_rec = 0.07660574412532668\n",
      "precision_als_rec = 0.059665796344647706\n",
      "precision_sim_item_rec = 0.03848563968668425\n",
      "precision_sim_user_rec = 0.0071122715404699005\n",
      "\n",
      "При N_пред = 50, N_отклик = 150:\n",
      "own_rec = 0.061684201353290766\n",
      "recall_als_rec = 0.04695721113191962\n",
      "recall_sim_item_rec = 0.031078689163246277\n",
      "recall_sim_user_rec = 0.006938881558790301\n",
      "own_rec = 0.07660574412532668\n",
      "precision_als_rec = 0.059665796344647706\n",
      "precision_sim_item_rec = 0.03848563968668425\n",
      "precision_sim_user_rec = 0.0071122715404699005\n",
      "\n",
      "При N_пред = 50, N_отклик = 200:\n",
      "own_rec = 0.061684201353290766\n",
      "recall_als_rec = 0.04695721113191962\n",
      "recall_sim_item_rec = 0.031078689163246277\n",
      "recall_sim_user_rec = 0.006938881558790301\n",
      "own_rec = 0.07660574412532668\n",
      "precision_als_rec = 0.059665796344647706\n",
      "precision_sim_item_rec = 0.03848563968668425\n",
      "precision_sim_user_rec = 0.0071122715404699005\n",
      "\n",
      "При N_пред = 50, N_отклик = 500:\n",
      "own_rec = 0.061684201353290766\n",
      "recall_als_rec = 0.04695721113191962\n",
      "recall_sim_item_rec = 0.031078689163246277\n",
      "recall_sim_user_rec = 0.006938881558790301\n",
      "own_rec = 0.07660574412532668\n",
      "precision_als_rec = 0.059665796344647706\n",
      "precision_sim_item_rec = 0.03848563968668425\n",
      "precision_sim_user_rec = 0.0071122715404699005\n",
      "\n",
      "При N_пред = 100, N_отклик = 20:\n",
      "own_rec = 0.0364815577009746\n",
      "recall_als_rec = 0.029294853127789962\n",
      "recall_sim_item_rec = 0.015771703271525182\n",
      "recall_sim_user_rec = 0.004197192714877655\n",
      "own_rec = 0.110783289817233\n",
      "precision_als_rec = 0.0841253263707572\n",
      "precision_sim_item_rec = 0.048250652741513814\n",
      "precision_sim_user_rec = 0.009373368146214141\n",
      "\n",
      "При N_пред = 100, N_отклик = 50:\n",
      "own_rec = 0.061684201353290766\n",
      "recall_als_rec = 0.04695721113191962\n",
      "recall_sim_item_rec = 0.031078689163246277\n",
      "recall_sim_user_rec = 0.006938881558790301\n",
      "own_rec = 0.07660574412532668\n",
      "precision_als_rec = 0.059665796344647706\n",
      "precision_sim_item_rec = 0.03848563968668425\n",
      "precision_sim_user_rec = 0.0071122715404699005\n",
      "\n",
      "При N_пред = 100, N_отклик = 100:\n",
      "own_rec = 0.09211914788591925\n",
      "recall_als_rec = 0.06892014288517817\n",
      "recall_sim_item_rec = 0.05017415408900047\n",
      "recall_sim_user_rec = 0.006938881558790301\n",
      "own_rec = 0.05822454308094006\n",
      "precision_als_rec = 0.04557180156657982\n",
      "precision_sim_item_rec = 0.031091383812010508\n",
      "precision_sim_user_rec = 0.0071122715404699005\n",
      "\n",
      "При N_пред = 100, N_отклик = 120:\n",
      "own_rec = 0.09211914788591925\n",
      "recall_als_rec = 0.06892014288517817\n",
      "recall_sim_item_rec = 0.05017415408900047\n",
      "recall_sim_user_rec = 0.006938881558790301\n",
      "own_rec = 0.05822454308094006\n",
      "precision_als_rec = 0.04557180156657982\n",
      "precision_sim_item_rec = 0.031091383812010508\n",
      "precision_sim_user_rec = 0.0071122715404699005\n",
      "\n",
      "При N_пред = 100, N_отклик = 150:\n",
      "own_rec = 0.09211914788591925\n",
      "recall_als_rec = 0.06892014288517817\n",
      "recall_sim_item_rec = 0.05017415408900047\n",
      "recall_sim_user_rec = 0.006938881558790301\n",
      "own_rec = 0.05822454308094006\n",
      "precision_als_rec = 0.04557180156657982\n",
      "precision_sim_item_rec = 0.031091383812010508\n",
      "precision_sim_user_rec = 0.0071122715404699005\n",
      "\n",
      "При N_пред = 100, N_отклик = 200:\n",
      "own_rec = 0.09211914788591925\n",
      "recall_als_rec = 0.06892014288517817\n",
      "recall_sim_item_rec = 0.05017415408900047\n",
      "recall_sim_user_rec = 0.006938881558790301\n",
      "own_rec = 0.05822454308094006\n",
      "precision_als_rec = 0.04557180156657982\n",
      "precision_sim_item_rec = 0.031091383812010508\n",
      "precision_sim_user_rec = 0.0071122715404699005\n",
      "\n",
      "При N_пред = 100, N_отклик = 500:\n",
      "own_rec = 0.09211914788591925\n",
      "recall_als_rec = 0.06892014288517817\n",
      "recall_sim_item_rec = 0.05017415408900047\n",
      "recall_sim_user_rec = 0.006938881558790301\n",
      "own_rec = 0.05822454308094006\n",
      "precision_als_rec = 0.04557180156657982\n",
      "precision_sim_item_rec = 0.031091383812010508\n",
      "precision_sim_user_rec = 0.0071122715404699005\n",
      "\n",
      "При N_пред = 120, N_отклик = 20:\n",
      "own_rec = 0.0364815577009746\n",
      "recall_als_rec = 0.029294853127789962\n",
      "recall_sim_item_rec = 0.015771703271525182\n",
      "recall_sim_user_rec = 0.004197192714877655\n",
      "own_rec = 0.110783289817233\n",
      "precision_als_rec = 0.0841253263707572\n",
      "precision_sim_item_rec = 0.048250652741513814\n",
      "precision_sim_user_rec = 0.009373368146214141\n",
      "\n",
      "При N_пред = 120, N_отклик = 50:\n",
      "own_rec = 0.061684201353290766\n",
      "recall_als_rec = 0.04695721113191962\n",
      "recall_sim_item_rec = 0.031078689163246277\n",
      "recall_sim_user_rec = 0.006938881558790301\n",
      "own_rec = 0.07660574412532668\n",
      "precision_als_rec = 0.059665796344647706\n",
      "precision_sim_item_rec = 0.03848563968668425\n",
      "precision_sim_user_rec = 0.0071122715404699005\n",
      "\n",
      "При N_пред = 120, N_отклик = 100:\n",
      "own_rec = 0.09211914788591925\n",
      "recall_als_rec = 0.06892014288517817\n",
      "recall_sim_item_rec = 0.05017415408900047\n",
      "recall_sim_user_rec = 0.006938881558790301\n",
      "own_rec = 0.05822454308094006\n",
      "precision_als_rec = 0.04557180156657982\n",
      "precision_sim_item_rec = 0.031091383812010508\n",
      "precision_sim_user_rec = 0.0071122715404699005\n",
      "\n"
     ]
    },
    {
     "name": "stdout",
     "output_type": "stream",
     "text": [
      "При N_пред = 120, N_отклик = 120:\n",
      "own_rec = 0.10262895630395007\n",
      "recall_als_rec = 0.07522767440289649\n",
      "recall_sim_item_rec = 0.057496775451701614\n",
      "recall_sim_user_rec = 0.006938881558790301\n",
      "own_rec = 0.054460400348129004\n",
      "precision_als_rec = 0.04208006962576162\n",
      "precision_sim_item_rec = 0.029416884247171073\n",
      "precision_sim_user_rec = 0.0071122715404699005\n",
      "\n",
      "При N_пред = 120, N_отклик = 150:\n",
      "own_rec = 0.10262895630395007\n",
      "recall_als_rec = 0.07522767440289649\n",
      "recall_sim_item_rec = 0.057496775451701614\n",
      "recall_sim_user_rec = 0.006938881558790301\n",
      "own_rec = 0.054460400348129004\n",
      "precision_als_rec = 0.04208006962576162\n",
      "precision_sim_item_rec = 0.029416884247171073\n",
      "precision_sim_user_rec = 0.0071122715404699005\n",
      "\n",
      "При N_пред = 120, N_отклик = 200:\n",
      "own_rec = 0.10262895630395007\n",
      "recall_als_rec = 0.07522767440289649\n",
      "recall_sim_item_rec = 0.057496775451701614\n",
      "recall_sim_user_rec = 0.006938881558790301\n",
      "own_rec = 0.054460400348129004\n",
      "precision_als_rec = 0.04208006962576162\n",
      "precision_sim_item_rec = 0.029416884247171073\n",
      "precision_sim_user_rec = 0.0071122715404699005\n",
      "\n",
      "При N_пред = 120, N_отклик = 500:\n",
      "own_rec = 0.10262895630395007\n",
      "recall_als_rec = 0.07522767440289649\n",
      "recall_sim_item_rec = 0.057496775451701614\n",
      "recall_sim_user_rec = 0.006938881558790301\n",
      "own_rec = 0.054460400348129004\n",
      "precision_als_rec = 0.04208006962576162\n",
      "precision_sim_item_rec = 0.029416884247171073\n",
      "precision_sim_user_rec = 0.0071122715404699005\n",
      "\n",
      "При N_пред = 150, N_отклик = 20:\n",
      "own_rec = 0.0364815577009746\n",
      "recall_als_rec = 0.029294853127789962\n",
      "recall_sim_item_rec = 0.015771703271525182\n",
      "recall_sim_user_rec = 0.004197192714877655\n",
      "own_rec = 0.110783289817233\n",
      "precision_als_rec = 0.0841253263707572\n",
      "precision_sim_item_rec = 0.048250652741513814\n",
      "precision_sim_user_rec = 0.009373368146214141\n",
      "\n",
      "При N_пред = 150, N_отклик = 50:\n",
      "own_rec = 0.061684201353290766\n",
      "recall_als_rec = 0.04695721113191962\n",
      "recall_sim_item_rec = 0.031078689163246277\n",
      "recall_sim_user_rec = 0.006938881558790301\n",
      "own_rec = 0.07660574412532668\n",
      "precision_als_rec = 0.059665796344647706\n",
      "precision_sim_item_rec = 0.03848563968668425\n",
      "precision_sim_user_rec = 0.0071122715404699005\n",
      "\n",
      "При N_пред = 150, N_отклик = 100:\n",
      "own_rec = 0.09211914788591925\n",
      "recall_als_rec = 0.06892014288517817\n",
      "recall_sim_item_rec = 0.05017415408900047\n",
      "recall_sim_user_rec = 0.006938881558790301\n",
      "own_rec = 0.05822454308094006\n",
      "precision_als_rec = 0.04557180156657982\n",
      "precision_sim_item_rec = 0.031091383812010508\n",
      "precision_sim_user_rec = 0.0071122715404699005\n",
      "\n",
      "При N_пред = 150, N_отклик = 120:\n",
      "own_rec = 0.10262895630395007\n",
      "recall_als_rec = 0.07522767440289649\n",
      "recall_sim_item_rec = 0.057496775451701614\n",
      "recall_sim_user_rec = 0.006938881558790301\n",
      "own_rec = 0.054460400348129004\n",
      "precision_als_rec = 0.04208006962576162\n",
      "precision_sim_item_rec = 0.029416884247171073\n",
      "precision_sim_user_rec = 0.0071122715404699005\n",
      "\n",
      "При N_пред = 150, N_отклик = 150:\n",
      "own_rec = 0.1150617146322639\n",
      "recall_als_rec = 0.08375959602628057\n",
      "recall_sim_item_rec = 0.06731246227277782\n",
      "recall_sim_user_rec = 0.006938881558790301\n",
      "own_rec = 0.049796344647519655\n",
      "precision_als_rec = 0.038071366405570156\n",
      "precision_sim_item_rec = 0.027686684073107235\n",
      "precision_sim_user_rec = 0.0071122715404699005\n",
      "\n",
      "При N_пред = 150, N_отклик = 200:\n",
      "own_rec = 0.1150617146322639\n",
      "recall_als_rec = 0.08375959602628057\n",
      "recall_sim_item_rec = 0.06731246227277782\n",
      "recall_sim_user_rec = 0.006938881558790301\n",
      "own_rec = 0.049796344647519655\n",
      "precision_als_rec = 0.038071366405570156\n",
      "precision_sim_item_rec = 0.027686684073107235\n",
      "precision_sim_user_rec = 0.0071122715404699005\n",
      "\n",
      "При N_пред = 150, N_отклик = 500:\n",
      "own_rec = 0.1150617146322639\n",
      "recall_als_rec = 0.08375959602628057\n",
      "recall_sim_item_rec = 0.06731246227277782\n",
      "recall_sim_user_rec = 0.006938881558790301\n",
      "own_rec = 0.049796344647519655\n",
      "precision_als_rec = 0.038071366405570156\n",
      "precision_sim_item_rec = 0.027686684073107235\n",
      "precision_sim_user_rec = 0.0071122715404699005\n",
      "\n",
      "При N_пред = 200, N_отклик = 20:\n",
      "own_rec = 0.0364815577009746\n",
      "recall_als_rec = 0.029294853127789962\n",
      "recall_sim_item_rec = 0.015771703271525182\n",
      "recall_sim_user_rec = 0.004197192714877655\n",
      "own_rec = 0.110783289817233\n",
      "precision_als_rec = 0.0841253263707572\n",
      "precision_sim_item_rec = 0.048250652741513814\n",
      "precision_sim_user_rec = 0.009373368146214141\n",
      "\n",
      "При N_пред = 200, N_отклик = 50:\n",
      "own_rec = 0.061684201353290766\n",
      "recall_als_rec = 0.04695721113191962\n",
      "recall_sim_item_rec = 0.031078689163246277\n",
      "recall_sim_user_rec = 0.006938881558790301\n",
      "own_rec = 0.07660574412532668\n",
      "precision_als_rec = 0.059665796344647706\n",
      "precision_sim_item_rec = 0.03848563968668425\n",
      "precision_sim_user_rec = 0.0071122715404699005\n",
      "\n",
      "При N_пред = 200, N_отклик = 100:\n",
      "own_rec = 0.09211914788591925\n",
      "recall_als_rec = 0.06892014288517817\n",
      "recall_sim_item_rec = 0.05017415408900047\n",
      "recall_sim_user_rec = 0.006938881558790301\n",
      "own_rec = 0.05822454308094006\n",
      "precision_als_rec = 0.04557180156657982\n",
      "precision_sim_item_rec = 0.031091383812010508\n",
      "precision_sim_user_rec = 0.0071122715404699005\n",
      "\n",
      "При N_пред = 200, N_отклик = 120:\n",
      "own_rec = 0.10262895630395007\n",
      "recall_als_rec = 0.07522767440289649\n",
      "recall_sim_item_rec = 0.057496775451701614\n",
      "recall_sim_user_rec = 0.006938881558790301\n",
      "own_rec = 0.054460400348129004\n",
      "precision_als_rec = 0.04208006962576162\n",
      "precision_sim_item_rec = 0.029416884247171073\n",
      "precision_sim_user_rec = 0.0071122715404699005\n",
      "\n",
      "При N_пред = 200, N_отклик = 150:\n",
      "own_rec = 0.1150617146322639\n",
      "recall_als_rec = 0.08375959602628057\n",
      "recall_sim_item_rec = 0.06731246227277782\n",
      "recall_sim_user_rec = 0.006938881558790301\n",
      "own_rec = 0.049796344647519655\n",
      "precision_als_rec = 0.038071366405570156\n",
      "precision_sim_item_rec = 0.027686684073107235\n",
      "precision_sim_user_rec = 0.0071122715404699005\n",
      "\n",
      "При N_пред = 200, N_отклик = 200:\n",
      "own_rec = 0.1325640196447428\n",
      "recall_als_rec = 0.09623614208429689\n",
      "recall_sim_item_rec = 0.08249444288127056\n",
      "recall_sim_user_rec = 0.006938881558790301\n",
      "own_rec = 0.044331592689295166\n",
      "precision_als_rec = 0.033281984334203776\n",
      "precision_sim_item_rec = 0.025629242819843412\n",
      "precision_sim_user_rec = 0.0071122715404699005\n",
      "\n",
      "При N_пред = 200, N_отклик = 500:\n",
      "own_rec = 0.1325640196447428\n",
      "recall_als_rec = 0.09623614208429689\n",
      "recall_sim_item_rec = 0.08249444288127056\n",
      "recall_sim_user_rec = 0.006938881558790301\n",
      "own_rec = 0.044331592689295166\n",
      "precision_als_rec = 0.033281984334203776\n",
      "precision_sim_item_rec = 0.025629242819843412\n",
      "precision_sim_user_rec = 0.0071122715404699005\n",
      "\n",
      "При N_пред = 500, N_отклик = 20:\n",
      "own_rec = 0.0364815577009746\n",
      "recall_als_rec = 0.029294853127789962\n",
      "recall_sim_item_rec = 0.015771703271525182\n",
      "recall_sim_user_rec = 0.004197192714877655\n",
      "own_rec = 0.110783289817233\n",
      "precision_als_rec = 0.0841253263707572\n",
      "precision_sim_item_rec = 0.048250652741513814\n",
      "precision_sim_user_rec = 0.009373368146214141\n",
      "\n",
      "При N_пред = 500, N_отклик = 50:\n",
      "own_rec = 0.061684201353290766\n",
      "recall_als_rec = 0.04695721113191962\n",
      "recall_sim_item_rec = 0.031078689163246277\n",
      "recall_sim_user_rec = 0.006938881558790301\n",
      "own_rec = 0.07660574412532668\n",
      "precision_als_rec = 0.059665796344647706\n",
      "precision_sim_item_rec = 0.03848563968668425\n",
      "precision_sim_user_rec = 0.0071122715404699005\n",
      "\n",
      "При N_пред = 500, N_отклик = 100:\n",
      "own_rec = 0.09211914788591925\n",
      "recall_als_rec = 0.06892014288517817\n",
      "recall_sim_item_rec = 0.05017415408900047\n",
      "recall_sim_user_rec = 0.006938881558790301\n",
      "own_rec = 0.05822454308094006\n",
      "precision_als_rec = 0.04557180156657982\n",
      "precision_sim_item_rec = 0.031091383812010508\n",
      "precision_sim_user_rec = 0.0071122715404699005\n",
      "\n",
      "При N_пред = 500, N_отклик = 120:\n",
      "own_rec = 0.10262895630395007\n",
      "recall_als_rec = 0.07522767440289649\n",
      "recall_sim_item_rec = 0.057496775451701614\n",
      "recall_sim_user_rec = 0.006938881558790301\n",
      "own_rec = 0.054460400348129004\n",
      "precision_als_rec = 0.04208006962576162\n",
      "precision_sim_item_rec = 0.029416884247171073\n",
      "precision_sim_user_rec = 0.0071122715404699005\n",
      "\n",
      "При N_пред = 500, N_отклик = 150:\n",
      "own_rec = 0.1150617146322639\n",
      "recall_als_rec = 0.08375959602628057\n",
      "recall_sim_item_rec = 0.06731246227277782\n",
      "recall_sim_user_rec = 0.006938881558790301\n",
      "own_rec = 0.049796344647519655\n",
      "precision_als_rec = 0.038071366405570156\n",
      "precision_sim_item_rec = 0.027686684073107235\n",
      "precision_sim_user_rec = 0.0071122715404699005\n",
      "\n",
      "При N_пред = 500, N_отклик = 200:\n",
      "own_rec = 0.1325640196447428\n",
      "recall_als_rec = 0.09623614208429689\n",
      "recall_sim_item_rec = 0.08249444288127056\n",
      "recall_sim_user_rec = 0.006938881558790301\n",
      "own_rec = 0.044331592689295166\n",
      "precision_als_rec = 0.033281984334203776\n",
      "precision_sim_item_rec = 0.025629242819843412\n",
      "precision_sim_user_rec = 0.0071122715404699005\n",
      "\n"
     ]
    },
    {
     "name": "stdout",
     "output_type": "stream",
     "text": [
      "При N_пред = 500, N_отклик = 500:\r\n",
      "own_rec = 0.18061825158867673\r\n",
      "recall_als_rec = 0.14600841266136969\r\n",
      "recall_sim_item_rec = 0.13345423061551148\r\n",
      "recall_sim_user_rec = 0.006938881558790301\r\n",
      "own_rec = 0.026054308093994758\r\n",
      "precision_als_rec = 0.020893994778067897\r\n",
      "precision_sim_item_rec = 0.018175456919060022\r\n",
      "precision_sim_user_rec = 0.0071122715404699005\n",
      "\n"
     ]
    }
   ],
   "source": [
    "list = []\n",
    "for n_pred in [5, 10, 20, 50, 100, 120, 150, 200, 500]:\n",
    "    for top_k_recall in [5, 10, 20, 50, 100, 120, 150, 200, 500]:\n",
    "        result_eval_matcher['own_rec'] = result_eval_matcher[USER_COL].apply(lambda x: recommender.get_own_recommendations(x, N=n_pred))\n",
    "        result_eval_matcher['sim_item_rec'] = result_eval_matcher[USER_COL].apply(lambda x: recommender.get_similar_items_recommendation(x, N=n_pred))\n",
    "        result_eval_matcher['als_rec'] = result_eval_matcher[USER_COL].apply(lambda x: recommender.get_als_recommendations(x, N=n_pred))\n",
    "        srt_recall = sorted(calc_recall(result_eval_matcher, top_k_recall), key=lambda x: x[1],reverse=True)\n",
    "        str_precision = sorted(calc_precision(result_eval_matcher, top_k_recall), key=lambda x: x[1],reverse=True)\n",
    "        f_recall = \"\\r\\nrecall_\".join([f\"{e[0]} = {e[1]}\" for e in srt_recall])\n",
    "        f_precision = \"\\r\\nprecision_\".join([f\"{e[0]} = {e[1]}\" for e in str_precision])\n",
    "        print(f'При N_пред = {n_pred}, N_отклик = {top_k_recall}:\\r\\n{f_recall}\\r\\n{f_precision}')\n",
    "        print()\n",
    "        list.append([n_pred, top_k_recall, srt_recall, str_precision])"
   ]
  },
  {
   "cell_type": "markdown",
   "metadata": {},
   "source": [
    "**<h3>Вывод</h3>**\n",
    "Судя по recall и precision пи увеличении количества соседей происходи смещение распределения, а также увеличение recall в большую сторону. Судя по превиденным выше данным разумно найти оптимальных график для k зависящий от колиества соседей и от приоритета определенной метрики (recall или precision)."
   ]
  },
  {
   "cell_type": "markdown",
   "metadata": {},
   "source": [
    "**Задание 2.**\n",
    "\n",
    "Обучите модель 2-ого уровня, при этом:\n",
    "\n",
    "- Добавьте минимум по 2 фичи для юзера, товара и пары юзер-товар\n",
    "\n",
    "- Измерьте отдельно precision@5 модели 1-ого уровня и двухуровневой модели на data_val_ranker\n",
    "\n",
    "- Вырос ли precision@5 при использовании двухуровневой модели?"
   ]
  },
  {
   "cell_type": "code",
   "execution_count": 47,
   "metadata": {},
   "outputs": [],
   "source": [
    "# взяли пользователей из трейна для ранжирования\n",
    "df_match_candidates = pd.DataFrame(data_train_ranker[USER_COL].unique())\n",
    "df_match_candidates.columns = [USER_COL]"
   ]
  },
  {
   "cell_type": "code",
   "execution_count": 48,
   "metadata": {},
   "outputs": [],
   "source": [
    "# собираем кандитатов с первого этапа (matcher)\n",
    "df_match_candidates['candidates'] = df_match_candidates[USER_COL].apply(lambda x: recommender.get_own_recommendations(x, N=N_PREDICT))"
   ]
  },
  {
   "cell_type": "code",
   "execution_count": 49,
   "metadata": {},
   "outputs": [
    {
     "data": {
      "text/html": [
       "<div>\n",
       "<style scoped>\n",
       "    .dataframe tbody tr th:only-of-type {\n",
       "        vertical-align: middle;\n",
       "    }\n",
       "\n",
       "    .dataframe tbody tr th {\n",
       "        vertical-align: top;\n",
       "    }\n",
       "\n",
       "    .dataframe thead th {\n",
       "        text-align: right;\n",
       "    }\n",
       "</style>\n",
       "<table border=\"1\" class=\"dataframe\">\n",
       "  <thead>\n",
       "    <tr style=\"text-align: right;\">\n",
       "      <th></th>\n",
       "      <th>user_id</th>\n",
       "      <th>candidates</th>\n",
       "    </tr>\n",
       "  </thead>\n",
       "  <tbody>\n",
       "    <tr>\n",
       "      <th>0</th>\n",
       "      <td>2070</td>\n",
       "      <td>[1105426, 1097350, 879194, 948640, 928263, 944...</td>\n",
       "    </tr>\n",
       "    <tr>\n",
       "      <th>1</th>\n",
       "      <td>2021</td>\n",
       "      <td>[950935, 1119454, 835578, 863762, 1097398, 101...</td>\n",
       "    </tr>\n",
       "  </tbody>\n",
       "</table>\n",
       "</div>"
      ],
      "text/plain": [
       "   user_id                                         candidates\n",
       "0     2070  [1105426, 1097350, 879194, 948640, 928263, 944...\n",
       "1     2021  [950935, 1119454, 835578, 863762, 1097398, 101..."
      ]
     },
     "execution_count": 49,
     "metadata": {},
     "output_type": "execute_result"
    }
   ],
   "source": [
    "df_match_candidates.head(2)"
   ]
  },
  {
   "cell_type": "code",
   "execution_count": 50,
   "metadata": {},
   "outputs": [],
   "source": [
    "df_items = df_match_candidates.apply(lambda x: pd.Series(x['candidates']), axis=1).stack().reset_index(level=1, drop=True)\n",
    "df_items.name = 'item_id'"
   ]
  },
  {
   "cell_type": "code",
   "execution_count": 51,
   "metadata": {},
   "outputs": [],
   "source": [
    "df_match_candidates = df_match_candidates.drop('candidates', axis=1).join(df_items)"
   ]
  },
  {
   "cell_type": "code",
   "execution_count": 52,
   "metadata": {},
   "outputs": [
    {
     "data": {
      "text/html": [
       "<div>\n",
       "<style scoped>\n",
       "    .dataframe tbody tr th:only-of-type {\n",
       "        vertical-align: middle;\n",
       "    }\n",
       "\n",
       "    .dataframe tbody tr th {\n",
       "        vertical-align: top;\n",
       "    }\n",
       "\n",
       "    .dataframe thead th {\n",
       "        text-align: right;\n",
       "    }\n",
       "</style>\n",
       "<table border=\"1\" class=\"dataframe\">\n",
       "  <thead>\n",
       "    <tr style=\"text-align: right;\">\n",
       "      <th></th>\n",
       "      <th>user_id</th>\n",
       "      <th>item_id</th>\n",
       "    </tr>\n",
       "  </thead>\n",
       "  <tbody>\n",
       "    <tr>\n",
       "      <th>0</th>\n",
       "      <td>2070</td>\n",
       "      <td>1105426</td>\n",
       "    </tr>\n",
       "    <tr>\n",
       "      <th>0</th>\n",
       "      <td>2070</td>\n",
       "      <td>1097350</td>\n",
       "    </tr>\n",
       "    <tr>\n",
       "      <th>0</th>\n",
       "      <td>2070</td>\n",
       "      <td>879194</td>\n",
       "    </tr>\n",
       "    <tr>\n",
       "      <th>0</th>\n",
       "      <td>2070</td>\n",
       "      <td>948640</td>\n",
       "    </tr>\n",
       "  </tbody>\n",
       "</table>\n",
       "</div>"
      ],
      "text/plain": [
       "   user_id  item_id\n",
       "0     2070  1105426\n",
       "0     2070  1097350\n",
       "0     2070   879194\n",
       "0     2070   948640"
      ]
     },
     "execution_count": 52,
     "metadata": {},
     "output_type": "execute_result"
    }
   ],
   "source": [
    "df_match_candidates.head(4)"
   ]
  },
  {
   "cell_type": "code",
   "execution_count": 53,
   "metadata": {},
   "outputs": [
    {
     "name": "stdout",
     "output_type": "stream",
     "text": [
      "match_candidates\n",
      "Shape: (95750, 2) Users: 1915 Items: 4437\n"
     ]
    }
   ],
   "source": [
    "print_stats_data(df_match_candidates, 'match_candidates')"
   ]
  },
  {
   "cell_type": "code",
   "execution_count": 54,
   "metadata": {},
   "outputs": [],
   "source": [
    "df_ranker_train = data_train_ranker[[USER_COL, ITEM_COL]].copy()\n",
    "df_ranker_train['target'] = 1  # тут только покупки \n",
    "\n",
    "df_ranker_train = df_match_candidates.merge(df_ranker_train, on=[USER_COL, ITEM_COL], how='left')\n",
    "\n",
    "df_ranker_train['target'].fillna(0, inplace= True)"
   ]
  },
  {
   "cell_type": "code",
   "execution_count": 55,
   "metadata": {},
   "outputs": [
    {
     "data": {
      "text/plain": [
       "0.0    88346\n",
       "1.0    11053\n",
       "Name: target, dtype: int64"
      ]
     },
     "execution_count": 55,
     "metadata": {},
     "output_type": "execute_result"
    }
   ],
   "source": [
    "df_ranker_train.target.value_counts()"
   ]
  },
  {
   "cell_type": "code",
   "execution_count": 56,
   "metadata": {},
   "outputs": [
    {
     "data": {
      "text/html": [
       "<div>\n",
       "<style scoped>\n",
       "    .dataframe tbody tr th:only-of-type {\n",
       "        vertical-align: middle;\n",
       "    }\n",
       "\n",
       "    .dataframe tbody tr th {\n",
       "        vertical-align: top;\n",
       "    }\n",
       "\n",
       "    .dataframe thead th {\n",
       "        text-align: right;\n",
       "    }\n",
       "</style>\n",
       "<table border=\"1\" class=\"dataframe\">\n",
       "  <thead>\n",
       "    <tr style=\"text-align: right;\">\n",
       "      <th></th>\n",
       "      <th>user_id</th>\n",
       "      <th>item_id</th>\n",
       "      <th>target</th>\n",
       "    </tr>\n",
       "  </thead>\n",
       "  <tbody>\n",
       "    <tr>\n",
       "      <th>0</th>\n",
       "      <td>2070</td>\n",
       "      <td>1105426</td>\n",
       "      <td>0.0</td>\n",
       "    </tr>\n",
       "    <tr>\n",
       "      <th>1</th>\n",
       "      <td>2070</td>\n",
       "      <td>1097350</td>\n",
       "      <td>0.0</td>\n",
       "    </tr>\n",
       "  </tbody>\n",
       "</table>\n",
       "</div>"
      ],
      "text/plain": [
       "   user_id  item_id  target\n",
       "0     2070  1105426     0.0\n",
       "1     2070  1097350     0.0"
      ]
     },
     "execution_count": 56,
     "metadata": {},
     "output_type": "execute_result"
    }
   ],
   "source": [
    "df_ranker_train.head(2)"
   ]
  },
  {
   "cell_type": "code",
   "execution_count": 57,
   "metadata": {},
   "outputs": [
    {
     "data": {
      "text/plain": [
       "0.11119830179378062"
      ]
     },
     "execution_count": 57,
     "metadata": {},
     "output_type": "execute_result"
    }
   ],
   "source": [
    "df_ranker_train['target'].mean()"
   ]
  },
  {
   "cell_type": "code",
   "execution_count": 132,
   "metadata": {},
   "outputs": [
    {
     "data": {
      "text/html": [
       "<div>\n",
       "<style scoped>\n",
       "    .dataframe tbody tr th:only-of-type {\n",
       "        vertical-align: middle;\n",
       "    }\n",
       "\n",
       "    .dataframe tbody tr th {\n",
       "        vertical-align: top;\n",
       "    }\n",
       "\n",
       "    .dataframe thead th {\n",
       "        text-align: right;\n",
       "    }\n",
       "</style>\n",
       "<table border=\"1\" class=\"dataframe\">\n",
       "  <thead>\n",
       "    <tr style=\"text-align: right;\">\n",
       "      <th></th>\n",
       "      <th>user_id</th>\n",
       "      <th>basket_id</th>\n",
       "      <th>day</th>\n",
       "      <th>item_id</th>\n",
       "      <th>quantity</th>\n",
       "      <th>sales_value</th>\n",
       "      <th>store_id</th>\n",
       "      <th>retail_disc</th>\n",
       "      <th>trans_time</th>\n",
       "      <th>week_no</th>\n",
       "      <th>coupon_disc</th>\n",
       "      <th>coupon_match_disc</th>\n",
       "      <th>month_no</th>\n",
       "      <th>full_sale</th>\n",
       "    </tr>\n",
       "  </thead>\n",
       "  <tbody>\n",
       "    <tr>\n",
       "      <th>0</th>\n",
       "      <td>2375</td>\n",
       "      <td>26984851472</td>\n",
       "      <td>1</td>\n",
       "      <td>1004906</td>\n",
       "      <td>1</td>\n",
       "      <td>1.39</td>\n",
       "      <td>364</td>\n",
       "      <td>-0.60</td>\n",
       "      <td>1631</td>\n",
       "      <td>1</td>\n",
       "      <td>0.0</td>\n",
       "      <td>0.0</td>\n",
       "      <td>0</td>\n",
       "      <td>1.39</td>\n",
       "    </tr>\n",
       "    <tr>\n",
       "      <th>1</th>\n",
       "      <td>2375</td>\n",
       "      <td>26984851472</td>\n",
       "      <td>1</td>\n",
       "      <td>1033142</td>\n",
       "      <td>1</td>\n",
       "      <td>0.82</td>\n",
       "      <td>364</td>\n",
       "      <td>0.00</td>\n",
       "      <td>1631</td>\n",
       "      <td>1</td>\n",
       "      <td>0.0</td>\n",
       "      <td>0.0</td>\n",
       "      <td>0</td>\n",
       "      <td>0.82</td>\n",
       "    </tr>\n",
       "    <tr>\n",
       "      <th>2</th>\n",
       "      <td>2375</td>\n",
       "      <td>26984851472</td>\n",
       "      <td>1</td>\n",
       "      <td>1036325</td>\n",
       "      <td>1</td>\n",
       "      <td>0.99</td>\n",
       "      <td>364</td>\n",
       "      <td>-0.30</td>\n",
       "      <td>1631</td>\n",
       "      <td>1</td>\n",
       "      <td>0.0</td>\n",
       "      <td>0.0</td>\n",
       "      <td>0</td>\n",
       "      <td>0.99</td>\n",
       "    </tr>\n",
       "    <tr>\n",
       "      <th>3</th>\n",
       "      <td>2375</td>\n",
       "      <td>26984851472</td>\n",
       "      <td>1</td>\n",
       "      <td>1082185</td>\n",
       "      <td>1</td>\n",
       "      <td>1.21</td>\n",
       "      <td>364</td>\n",
       "      <td>0.00</td>\n",
       "      <td>1631</td>\n",
       "      <td>1</td>\n",
       "      <td>0.0</td>\n",
       "      <td>0.0</td>\n",
       "      <td>0</td>\n",
       "      <td>1.21</td>\n",
       "    </tr>\n",
       "    <tr>\n",
       "      <th>4</th>\n",
       "      <td>2375</td>\n",
       "      <td>26984851472</td>\n",
       "      <td>1</td>\n",
       "      <td>8160430</td>\n",
       "      <td>1</td>\n",
       "      <td>1.50</td>\n",
       "      <td>364</td>\n",
       "      <td>-0.39</td>\n",
       "      <td>1631</td>\n",
       "      <td>1</td>\n",
       "      <td>0.0</td>\n",
       "      <td>0.0</td>\n",
       "      <td>0</td>\n",
       "      <td>1.50</td>\n",
       "    </tr>\n",
       "    <tr>\n",
       "      <th>...</th>\n",
       "      <td>...</td>\n",
       "      <td>...</td>\n",
       "      <td>...</td>\n",
       "      <td>...</td>\n",
       "      <td>...</td>\n",
       "      <td>...</td>\n",
       "      <td>...</td>\n",
       "      <td>...</td>\n",
       "      <td>...</td>\n",
       "      <td>...</td>\n",
       "      <td>...</td>\n",
       "      <td>...</td>\n",
       "      <td>...</td>\n",
       "      <td>...</td>\n",
       "    </tr>\n",
       "    <tr>\n",
       "      <th>39995</th>\n",
       "      <td>1367</td>\n",
       "      <td>27534669186</td>\n",
       "      <td>47</td>\n",
       "      <td>6533362</td>\n",
       "      <td>1</td>\n",
       "      <td>3.99</td>\n",
       "      <td>384</td>\n",
       "      <td>0.00</td>\n",
       "      <td>1751</td>\n",
       "      <td>7</td>\n",
       "      <td>0.0</td>\n",
       "      <td>0.0</td>\n",
       "      <td>1</td>\n",
       "      <td>3.99</td>\n",
       "    </tr>\n",
       "    <tr>\n",
       "      <th>39996</th>\n",
       "      <td>1284</td>\n",
       "      <td>27534677454</td>\n",
       "      <td>47</td>\n",
       "      <td>835300</td>\n",
       "      <td>3</td>\n",
       "      <td>11.24</td>\n",
       "      <td>339</td>\n",
       "      <td>-3.41</td>\n",
       "      <td>1727</td>\n",
       "      <td>7</td>\n",
       "      <td>0.0</td>\n",
       "      <td>0.0</td>\n",
       "      <td>1</td>\n",
       "      <td>33.72</td>\n",
       "    </tr>\n",
       "    <tr>\n",
       "      <th>39997</th>\n",
       "      <td>1284</td>\n",
       "      <td>27534677454</td>\n",
       "      <td>47</td>\n",
       "      <td>1058930</td>\n",
       "      <td>1</td>\n",
       "      <td>1.19</td>\n",
       "      <td>339</td>\n",
       "      <td>0.00</td>\n",
       "      <td>1727</td>\n",
       "      <td>7</td>\n",
       "      <td>0.0</td>\n",
       "      <td>0.0</td>\n",
       "      <td>1</td>\n",
       "      <td>1.19</td>\n",
       "    </tr>\n",
       "    <tr>\n",
       "      <th>39998</th>\n",
       "      <td>1284</td>\n",
       "      <td>27534677476</td>\n",
       "      <td>47</td>\n",
       "      <td>1131974</td>\n",
       "      <td>2</td>\n",
       "      <td>2.58</td>\n",
       "      <td>339</td>\n",
       "      <td>-0.20</td>\n",
       "      <td>1733</td>\n",
       "      <td>7</td>\n",
       "      <td>0.0</td>\n",
       "      <td>0.0</td>\n",
       "      <td>1</td>\n",
       "      <td>5.16</td>\n",
       "    </tr>\n",
       "    <tr>\n",
       "      <th>39999</th>\n",
       "      <td>1284</td>\n",
       "      <td>27534677476</td>\n",
       "      <td>47</td>\n",
       "      <td>5978648</td>\n",
       "      <td>0</td>\n",
       "      <td>0.00</td>\n",
       "      <td>339</td>\n",
       "      <td>0.00</td>\n",
       "      <td>1733</td>\n",
       "      <td>7</td>\n",
       "      <td>0.0</td>\n",
       "      <td>0.0</td>\n",
       "      <td>1</td>\n",
       "      <td>0.00</td>\n",
       "    </tr>\n",
       "  </tbody>\n",
       "</table>\n",
       "<p>40000 rows × 14 columns</p>\n",
       "</div>"
      ],
      "text/plain": [
       "       user_id    basket_id  day  item_id  quantity  sales_value  store_id  \\\n",
       "0         2375  26984851472    1  1004906         1         1.39       364   \n",
       "1         2375  26984851472    1  1033142         1         0.82       364   \n",
       "2         2375  26984851472    1  1036325         1         0.99       364   \n",
       "3         2375  26984851472    1  1082185         1         1.21       364   \n",
       "4         2375  26984851472    1  8160430         1         1.50       364   \n",
       "...        ...          ...  ...      ...       ...          ...       ...   \n",
       "39995     1367  27534669186   47  6533362         1         3.99       384   \n",
       "39996     1284  27534677454   47   835300         3        11.24       339   \n",
       "39997     1284  27534677454   47  1058930         1         1.19       339   \n",
       "39998     1284  27534677476   47  1131974         2         2.58       339   \n",
       "39999     1284  27534677476   47  5978648         0         0.00       339   \n",
       "\n",
       "       retail_disc  trans_time  week_no  coupon_disc  coupon_match_disc  \\\n",
       "0            -0.60        1631        1          0.0                0.0   \n",
       "1             0.00        1631        1          0.0                0.0   \n",
       "2            -0.30        1631        1          0.0                0.0   \n",
       "3             0.00        1631        1          0.0                0.0   \n",
       "4            -0.39        1631        1          0.0                0.0   \n",
       "...            ...         ...      ...          ...                ...   \n",
       "39995         0.00        1751        7          0.0                0.0   \n",
       "39996        -3.41        1727        7          0.0                0.0   \n",
       "39997         0.00        1727        7          0.0                0.0   \n",
       "39998        -0.20        1733        7          0.0                0.0   \n",
       "39999         0.00        1733        7          0.0                0.0   \n",
       "\n",
       "       month_no  full_sale  \n",
       "0             0       1.39  \n",
       "1             0       0.82  \n",
       "2             0       0.99  \n",
       "3             0       1.21  \n",
       "4             0       1.50  \n",
       "...         ...        ...  \n",
       "39995         1       3.99  \n",
       "39996         1      33.72  \n",
       "39997         1       1.19  \n",
       "39998         1       5.16  \n",
       "39999         1       0.00  \n",
       "\n",
       "[40000 rows x 14 columns]"
      ]
     },
     "execution_count": 132,
     "metadata": {},
     "output_type": "execute_result"
    }
   ],
   "source": [
    "data.head(40000)"
   ]
  },
  {
   "cell_type": "code",
   "execution_count": 94,
   "metadata": {},
   "outputs": [
    {
     "data": {
      "text/html": [
       "<div>\n",
       "<style scoped>\n",
       "    .dataframe tbody tr th:only-of-type {\n",
       "        vertical-align: middle;\n",
       "    }\n",
       "\n",
       "    .dataframe tbody tr th {\n",
       "        vertical-align: top;\n",
       "    }\n",
       "\n",
       "    .dataframe thead th {\n",
       "        text-align: right;\n",
       "    }\n",
       "</style>\n",
       "<table border=\"1\" class=\"dataframe\">\n",
       "  <thead>\n",
       "    <tr style=\"text-align: right;\">\n",
       "      <th></th>\n",
       "      <th>AGE_DESC</th>\n",
       "      <th>MARITAL_STATUS_CODE</th>\n",
       "      <th>INCOME_DESC</th>\n",
       "      <th>HOMEOWNER_DESC</th>\n",
       "      <th>HH_COMP_DESC</th>\n",
       "      <th>HOUSEHOLD_SIZE_DESC</th>\n",
       "      <th>KID_CATEGORY_DESC</th>\n",
       "      <th>household_key</th>\n",
       "    </tr>\n",
       "  </thead>\n",
       "  <tbody>\n",
       "    <tr>\n",
       "      <th>0</th>\n",
       "      <td>65+</td>\n",
       "      <td>A</td>\n",
       "      <td>35-49K</td>\n",
       "      <td>Homeowner</td>\n",
       "      <td>2 Adults No Kids</td>\n",
       "      <td>2</td>\n",
       "      <td>None/Unknown</td>\n",
       "      <td>1</td>\n",
       "    </tr>\n",
       "    <tr>\n",
       "      <th>1</th>\n",
       "      <td>45-54</td>\n",
       "      <td>A</td>\n",
       "      <td>50-74K</td>\n",
       "      <td>Homeowner</td>\n",
       "      <td>2 Adults No Kids</td>\n",
       "      <td>2</td>\n",
       "      <td>None/Unknown</td>\n",
       "      <td>7</td>\n",
       "    </tr>\n",
       "  </tbody>\n",
       "</table>\n",
       "</div>"
      ],
      "text/plain": [
       "  AGE_DESC MARITAL_STATUS_CODE INCOME_DESC HOMEOWNER_DESC      HH_COMP_DESC  \\\n",
       "0      65+                   A      35-49K      Homeowner  2 Adults No Kids   \n",
       "1    45-54                   A      50-74K      Homeowner  2 Adults No Kids   \n",
       "\n",
       "  HOUSEHOLD_SIZE_DESC KID_CATEGORY_DESC  household_key  \n",
       "0                   2      None/Unknown              1  \n",
       "1                   2      None/Unknown              7  "
      ]
     },
     "execution_count": 94,
     "metadata": {},
     "output_type": "execute_result"
    }
   ],
   "source": [
    "user_features.head(2)"
   ]
  },
  {
   "cell_type": "code",
   "execution_count": null,
   "metadata": {},
   "outputs": [],
   "source": []
  },
  {
   "cell_type": "code",
   "execution_count": 133,
   "metadata": {},
   "outputs": [],
   "source": [
    "data['month_no'] = ((data['week_no'] - 1) / 4).astype('int16')\n",
    "data['full_sale'] = data['quantity'] * data['sales_value']\n",
    "item_features['price'] = item_features['PRODUCT_ID'].apply(lambda x: data[data['item_id'] == x]['sales_value'].mean())\n",
    "\n",
    "#user_features['household_key'].apply(lambda x: data[data['user_id'] == x]['quantity'].sum() / len(data[data['user_id'] == x]['week_no'].unique()))\n",
    "#['full_sale'].mean(axis=1)"
   ]
  },
  {
   "cell_type": "code",
   "execution_count": 117,
   "metadata": {},
   "outputs": [],
   "source": [
    "d = data.merge(item_features, left_on='item_id', right_on='PRODUCT_ID')\n",
    "for cat in d['DEPARTMENT'].unique():\n",
    "    user_features[f'cat_{cat}'] = d[d['DEPARTMENT'] == cat]['sales_value'].mean()\n",
    "    user_features[f'cat_{cat}_full_sale'] = d[d['DEPARTMENT'] == cat]['sales_value'].sum()\n",
    "    user_features[f'cat_{cat}_quantity'] = d[d['DEPARTMENT'] == cat]['quantity'].sum()\n",
    "\n",
    "user_features['avg_sale'] = user_features['household_key'].apply(lambda x: data[data['user_id'] == x]['full_sale'].mean())\n",
    "user_features['freq_sales_month'] = user_features['household_key'].apply(lambda x: data[data['user_id'] == x]['quantity'].sum() / len(data[data['user_id'] == x]['month_no'].unique()))\n",
    "user_features['freq_sales_week'] = user_features['household_key'].apply(lambda x: data[data['user_id'] == x]['quantity'].sum() / len(data[data['user_id'] == x]['week_no'].unique()))\n",
    "\n",
    "user_features['freq_sales_morning'] = user_features['household_key'].apply(lambda x: data[(400 <= data['trans_time']) & (data['trans_time'] < 1200) & (data['user_id'] == x)]['full_sale'].sum())\n",
    "user_features['freq_sales_afternoon'] = user_features['household_key'].apply(lambda x: data[(1200 <= data['trans_time']) & (data['trans_time'] < 1800) & (data['user_id'] == x)]['full_sale'].sum())\n",
    "user_features['freq_sales_evening'] = user_features['household_key'].apply(lambda x: data[(1800 <= data['trans_time']) & (data['trans_time'] <= 2359) & (data['user_id'] == x)]['full_sale'].sum())\n",
    "user_features['freq_sales_night'] = user_features['household_key'].apply(lambda x: data[(0 <= data['trans_time']) & (data['trans_time'] < 400) & (data['user_id'] == x)]['full_sale'].sum())"
   ]
  },
  {
   "cell_type": "code",
   "execution_count": null,
   "metadata": {},
   "outputs": [],
   "source": []
  },
  {
   "cell_type": "code",
   "execution_count": null,
   "metadata": {},
   "outputs": [],
   "source": [
    "#user_features['freq_sales_weekend']"
   ]
  },
  {
   "cell_type": "code",
   "execution_count": null,
   "metadata": {},
   "outputs": [],
   "source": [
    "#item_features['sum_sales_week']\n",
    "#item_features['avg_sales_one_item_category_week']\n",
    "#item_features['sum_sale_div_avg_sales_category']\n",
    "#item_features['price']\n",
    "#item_features['price_div_avg_price_category']"
   ]
  },
  {
   "cell_type": "code",
   "execution_count": 108,
   "metadata": {},
   "outputs": [
    {
     "data": {
      "text/html": [
       "<div>\n",
       "<style scoped>\n",
       "    .dataframe tbody tr th:only-of-type {\n",
       "        vertical-align: middle;\n",
       "    }\n",
       "\n",
       "    .dataframe tbody tr th {\n",
       "        vertical-align: top;\n",
       "    }\n",
       "\n",
       "    .dataframe thead th {\n",
       "        text-align: right;\n",
       "    }\n",
       "</style>\n",
       "<table border=\"1\" class=\"dataframe\">\n",
       "  <thead>\n",
       "    <tr style=\"text-align: right;\">\n",
       "      <th></th>\n",
       "      <th>PRODUCT_ID</th>\n",
       "      <th>MANUFACTURER</th>\n",
       "      <th>DEPARTMENT</th>\n",
       "      <th>BRAND</th>\n",
       "      <th>COMMODITY_DESC</th>\n",
       "      <th>SUB_COMMODITY_DESC</th>\n",
       "      <th>CURR_SIZE_OF_PRODUCT</th>\n",
       "    </tr>\n",
       "  </thead>\n",
       "  <tbody>\n",
       "    <tr>\n",
       "      <th>0</th>\n",
       "      <td>25671</td>\n",
       "      <td>2</td>\n",
       "      <td>GROCERY</td>\n",
       "      <td>National</td>\n",
       "      <td>FRZN ICE</td>\n",
       "      <td>ICE - CRUSHED/CUBED</td>\n",
       "      <td>22 LB</td>\n",
       "    </tr>\n",
       "    <tr>\n",
       "      <th>1</th>\n",
       "      <td>26081</td>\n",
       "      <td>2</td>\n",
       "      <td>MISC. TRANS.</td>\n",
       "      <td>National</td>\n",
       "      <td>NO COMMODITY DESCRIPTION</td>\n",
       "      <td>NO SUBCOMMODITY DESCRIPTION</td>\n",
       "      <td></td>\n",
       "    </tr>\n",
       "  </tbody>\n",
       "</table>\n",
       "</div>"
      ],
      "text/plain": [
       "   PRODUCT_ID  MANUFACTURER    DEPARTMENT     BRAND            COMMODITY_DESC  \\\n",
       "0       25671             2       GROCERY  National                  FRZN ICE   \n",
       "1       26081             2  MISC. TRANS.  National  NO COMMODITY DESCRIPTION   \n",
       "\n",
       "            SUB_COMMODITY_DESC CURR_SIZE_OF_PRODUCT  \n",
       "0          ICE - CRUSHED/CUBED                22 LB  \n",
       "1  NO SUBCOMMODITY DESCRIPTION                       "
      ]
     },
     "execution_count": 108,
     "metadata": {},
     "output_type": "execute_result"
    }
   ],
   "source": [
    "item_features.head(2)"
   ]
  },
  {
   "cell_type": "markdown",
   "metadata": {},
   "source": [
    "**Фичи user_id:**\n",
    "    - Средний чек\n",
    "    - Средняя сумма покупки 1 товара в каждой категории\n",
    "    - Кол-во покупок в каждой категории\n",
    "    - Частотность покупок раз/месяц\n",
    "    - Долю покупок в выходные\n",
    "    - Долю покупок утром/днем/вечером\n",
    "\n",
    "**Фичи item_id**:\n",
    "    - Кол-во покупок в неделю\n",
    "    - Среднее ол-во покупок 1 товара в категории в неделю\n",
    "    - (Кол-во покупок в неделю) / (Среднее ол-во покупок 1 товара в категории в неделю)\n",
    "    - Цена (Можно посчитать из retil_train.csv)\n",
    "    - Цена / Средняя цена товара в категории\n",
    "    \n",
    "**Фичи пары user_id - item_id**\n",
    "    - (Средняя сумма покупки 1 товара в каждой категории (берем категорию item_id)) - (Цена item_id)\n",
    "    - (Кол-во покупок юзером конкретной категории в неделю) - (Среднее кол-во покупок всеми юзерами конкретной категории в неделю)\n",
    "    - (Кол-во покупок юзером конкретной категории в неделю) / (Среднее кол-во покупок всеми юзерами конкретной категории в неделю)"
   ]
  },
  {
   "cell_type": "code",
   "execution_count": null,
   "metadata": {},
   "outputs": [],
   "source": []
  },
  {
   "cell_type": "code",
   "execution_count": 59,
   "metadata": {},
   "outputs": [
    {
     "data": {
      "text/html": [
       "<div>\n",
       "<style scoped>\n",
       "    .dataframe tbody tr th:only-of-type {\n",
       "        vertical-align: middle;\n",
       "    }\n",
       "\n",
       "    .dataframe tbody tr th {\n",
       "        vertical-align: top;\n",
       "    }\n",
       "\n",
       "    .dataframe thead th {\n",
       "        text-align: right;\n",
       "    }\n",
       "</style>\n",
       "<table border=\"1\" class=\"dataframe\">\n",
       "  <thead>\n",
       "    <tr style=\"text-align: right;\">\n",
       "      <th></th>\n",
       "      <th>age_desc</th>\n",
       "      <th>marital_status_code</th>\n",
       "      <th>income_desc</th>\n",
       "      <th>homeowner_desc</th>\n",
       "      <th>hh_comp_desc</th>\n",
       "      <th>household_size_desc</th>\n",
       "      <th>kid_category_desc</th>\n",
       "      <th>user_id</th>\n",
       "    </tr>\n",
       "  </thead>\n",
       "  <tbody>\n",
       "    <tr>\n",
       "      <th>0</th>\n",
       "      <td>65+</td>\n",
       "      <td>A</td>\n",
       "      <td>35-49K</td>\n",
       "      <td>Homeowner</td>\n",
       "      <td>2 Adults No Kids</td>\n",
       "      <td>2</td>\n",
       "      <td>None/Unknown</td>\n",
       "      <td>1</td>\n",
       "    </tr>\n",
       "    <tr>\n",
       "      <th>1</th>\n",
       "      <td>45-54</td>\n",
       "      <td>A</td>\n",
       "      <td>50-74K</td>\n",
       "      <td>Homeowner</td>\n",
       "      <td>2 Adults No Kids</td>\n",
       "      <td>2</td>\n",
       "      <td>None/Unknown</td>\n",
       "      <td>7</td>\n",
       "    </tr>\n",
       "  </tbody>\n",
       "</table>\n",
       "</div>"
      ],
      "text/plain": [
       "  age_desc marital_status_code income_desc homeowner_desc      hh_comp_desc  \\\n",
       "0      65+                   A      35-49K      Homeowner  2 Adults No Kids   \n",
       "1    45-54                   A      50-74K      Homeowner  2 Adults No Kids   \n",
       "\n",
       "  household_size_desc kid_category_desc  user_id  \n",
       "0                   2      None/Unknown        1  \n",
       "1                   2      None/Unknown        7  "
      ]
     },
     "execution_count": 59,
     "metadata": {},
     "output_type": "execute_result"
    }
   ],
   "source": [
    "user_features.head(2)"
   ]
  },
  {
   "cell_type": "code",
   "execution_count": 60,
   "metadata": {},
   "outputs": [
    {
     "data": {
      "text/html": [
       "<div>\n",
       "<style scoped>\n",
       "    .dataframe tbody tr th:only-of-type {\n",
       "        vertical-align: middle;\n",
       "    }\n",
       "\n",
       "    .dataframe tbody tr th {\n",
       "        vertical-align: top;\n",
       "    }\n",
       "\n",
       "    .dataframe thead th {\n",
       "        text-align: right;\n",
       "    }\n",
       "</style>\n",
       "<table border=\"1\" class=\"dataframe\">\n",
       "  <thead>\n",
       "    <tr style=\"text-align: right;\">\n",
       "      <th></th>\n",
       "      <th>user_id</th>\n",
       "      <th>item_id</th>\n",
       "      <th>target</th>\n",
       "      <th>manufacturer</th>\n",
       "      <th>department</th>\n",
       "      <th>brand</th>\n",
       "      <th>commodity_desc</th>\n",
       "      <th>sub_commodity_desc</th>\n",
       "      <th>curr_size_of_product</th>\n",
       "      <th>age_desc</th>\n",
       "      <th>marital_status_code</th>\n",
       "      <th>income_desc</th>\n",
       "      <th>homeowner_desc</th>\n",
       "      <th>hh_comp_desc</th>\n",
       "      <th>household_size_desc</th>\n",
       "      <th>kid_category_desc</th>\n",
       "    </tr>\n",
       "  </thead>\n",
       "  <tbody>\n",
       "    <tr>\n",
       "      <th>0</th>\n",
       "      <td>2070</td>\n",
       "      <td>1105426</td>\n",
       "      <td>0.0</td>\n",
       "      <td>69</td>\n",
       "      <td>DELI</td>\n",
       "      <td>Private</td>\n",
       "      <td>SANDWICHES</td>\n",
       "      <td>SANDWICHES - (COLD)</td>\n",
       "      <td></td>\n",
       "      <td>45-54</td>\n",
       "      <td>U</td>\n",
       "      <td>50-74K</td>\n",
       "      <td>Unknown</td>\n",
       "      <td>Unknown</td>\n",
       "      <td>1</td>\n",
       "      <td>None/Unknown</td>\n",
       "    </tr>\n",
       "    <tr>\n",
       "      <th>1</th>\n",
       "      <td>2070</td>\n",
       "      <td>1097350</td>\n",
       "      <td>0.0</td>\n",
       "      <td>2468</td>\n",
       "      <td>GROCERY</td>\n",
       "      <td>National</td>\n",
       "      <td>DOMESTIC WINE</td>\n",
       "      <td>VALUE GLASS WINE</td>\n",
       "      <td>4 LTR</td>\n",
       "      <td>45-54</td>\n",
       "      <td>U</td>\n",
       "      <td>50-74K</td>\n",
       "      <td>Unknown</td>\n",
       "      <td>Unknown</td>\n",
       "      <td>1</td>\n",
       "      <td>None/Unknown</td>\n",
       "    </tr>\n",
       "  </tbody>\n",
       "</table>\n",
       "</div>"
      ],
      "text/plain": [
       "   user_id  item_id  target  manufacturer department     brand commodity_desc  \\\n",
       "0     2070  1105426     0.0            69       DELI   Private     SANDWICHES   \n",
       "1     2070  1097350     0.0          2468    GROCERY  National  DOMESTIC WINE   \n",
       "\n",
       "    sub_commodity_desc curr_size_of_product age_desc marital_status_code  \\\n",
       "0  SANDWICHES - (COLD)                         45-54                   U   \n",
       "1     VALUE GLASS WINE                4 LTR    45-54                   U   \n",
       "\n",
       "  income_desc homeowner_desc hh_comp_desc household_size_desc  \\\n",
       "0      50-74K        Unknown      Unknown                   1   \n",
       "1      50-74K        Unknown      Unknown                   1   \n",
       "\n",
       "  kid_category_desc  \n",
       "0      None/Unknown  \n",
       "1      None/Unknown  "
      ]
     },
     "execution_count": 60,
     "metadata": {},
     "output_type": "execute_result"
    }
   ],
   "source": [
    "df_ranker_train = df_ranker_train.merge(item_features, on='item_id', how='left')\n",
    "df_ranker_train = df_ranker_train.merge(user_features, on='user_id', how='left')\n",
    "\n",
    "df_ranker_train.head(2)"
   ]
  },
  {
   "cell_type": "code",
   "execution_count": 61,
   "metadata": {},
   "outputs": [
    {
     "data": {
      "text/html": [
       "<div>\n",
       "<style scoped>\n",
       "    .dataframe tbody tr th:only-of-type {\n",
       "        vertical-align: middle;\n",
       "    }\n",
       "\n",
       "    .dataframe tbody tr th {\n",
       "        vertical-align: top;\n",
       "    }\n",
       "\n",
       "    .dataframe thead th {\n",
       "        text-align: right;\n",
       "    }\n",
       "</style>\n",
       "<table border=\"1\" class=\"dataframe\">\n",
       "  <thead>\n",
       "    <tr style=\"text-align: right;\">\n",
       "      <th></th>\n",
       "      <th>user_id</th>\n",
       "      <th>item_id</th>\n",
       "      <th>target</th>\n",
       "      <th>manufacturer</th>\n",
       "      <th>department</th>\n",
       "      <th>brand</th>\n",
       "      <th>commodity_desc</th>\n",
       "      <th>sub_commodity_desc</th>\n",
       "      <th>curr_size_of_product</th>\n",
       "      <th>age_desc</th>\n",
       "      <th>marital_status_code</th>\n",
       "      <th>income_desc</th>\n",
       "      <th>homeowner_desc</th>\n",
       "      <th>hh_comp_desc</th>\n",
       "      <th>household_size_desc</th>\n",
       "      <th>kid_category_desc</th>\n",
       "    </tr>\n",
       "  </thead>\n",
       "  <tbody>\n",
       "    <tr>\n",
       "      <th>0</th>\n",
       "      <td>2070</td>\n",
       "      <td>1105426</td>\n",
       "      <td>0.0</td>\n",
       "      <td>69</td>\n",
       "      <td>DELI</td>\n",
       "      <td>Private</td>\n",
       "      <td>SANDWICHES</td>\n",
       "      <td>SANDWICHES - (COLD)</td>\n",
       "      <td></td>\n",
       "      <td>45-54</td>\n",
       "      <td>U</td>\n",
       "      <td>50-74K</td>\n",
       "      <td>Unknown</td>\n",
       "      <td>Unknown</td>\n",
       "      <td>1</td>\n",
       "      <td>None/Unknown</td>\n",
       "    </tr>\n",
       "    <tr>\n",
       "      <th>1</th>\n",
       "      <td>2070</td>\n",
       "      <td>1097350</td>\n",
       "      <td>0.0</td>\n",
       "      <td>2468</td>\n",
       "      <td>GROCERY</td>\n",
       "      <td>National</td>\n",
       "      <td>DOMESTIC WINE</td>\n",
       "      <td>VALUE GLASS WINE</td>\n",
       "      <td>4 LTR</td>\n",
       "      <td>45-54</td>\n",
       "      <td>U</td>\n",
       "      <td>50-74K</td>\n",
       "      <td>Unknown</td>\n",
       "      <td>Unknown</td>\n",
       "      <td>1</td>\n",
       "      <td>None/Unknown</td>\n",
       "    </tr>\n",
       "    <tr>\n",
       "      <th>2</th>\n",
       "      <td>2070</td>\n",
       "      <td>879194</td>\n",
       "      <td>0.0</td>\n",
       "      <td>69</td>\n",
       "      <td>DRUG GM</td>\n",
       "      <td>Private</td>\n",
       "      <td>DIAPERS &amp; DISPOSABLES</td>\n",
       "      <td>BABY DIAPERS</td>\n",
       "      <td>14 CT</td>\n",
       "      <td>45-54</td>\n",
       "      <td>U</td>\n",
       "      <td>50-74K</td>\n",
       "      <td>Unknown</td>\n",
       "      <td>Unknown</td>\n",
       "      <td>1</td>\n",
       "      <td>None/Unknown</td>\n",
       "    </tr>\n",
       "    <tr>\n",
       "      <th>3</th>\n",
       "      <td>2070</td>\n",
       "      <td>948640</td>\n",
       "      <td>0.0</td>\n",
       "      <td>1213</td>\n",
       "      <td>DRUG GM</td>\n",
       "      <td>National</td>\n",
       "      <td>ORAL HYGIENE PRODUCTS</td>\n",
       "      <td>WHITENING SYSTEMS</td>\n",
       "      <td>3 OZ</td>\n",
       "      <td>45-54</td>\n",
       "      <td>U</td>\n",
       "      <td>50-74K</td>\n",
       "      <td>Unknown</td>\n",
       "      <td>Unknown</td>\n",
       "      <td>1</td>\n",
       "      <td>None/Unknown</td>\n",
       "    </tr>\n",
       "    <tr>\n",
       "      <th>4</th>\n",
       "      <td>2070</td>\n",
       "      <td>928263</td>\n",
       "      <td>0.0</td>\n",
       "      <td>69</td>\n",
       "      <td>DRUG GM</td>\n",
       "      <td>Private</td>\n",
       "      <td>DIAPERS &amp; DISPOSABLES</td>\n",
       "      <td>BABY DIAPERS</td>\n",
       "      <td>13 CT</td>\n",
       "      <td>45-54</td>\n",
       "      <td>U</td>\n",
       "      <td>50-74K</td>\n",
       "      <td>Unknown</td>\n",
       "      <td>Unknown</td>\n",
       "      <td>1</td>\n",
       "      <td>None/Unknown</td>\n",
       "    </tr>\n",
       "  </tbody>\n",
       "</table>\n",
       "</div>"
      ],
      "text/plain": [
       "   user_id  item_id  target  manufacturer department     brand  \\\n",
       "0     2070  1105426     0.0            69       DELI   Private   \n",
       "1     2070  1097350     0.0          2468    GROCERY  National   \n",
       "2     2070   879194     0.0            69    DRUG GM   Private   \n",
       "3     2070   948640     0.0          1213    DRUG GM  National   \n",
       "4     2070   928263     0.0            69    DRUG GM   Private   \n",
       "\n",
       "          commodity_desc   sub_commodity_desc curr_size_of_product age_desc  \\\n",
       "0             SANDWICHES  SANDWICHES - (COLD)                         45-54   \n",
       "1          DOMESTIC WINE     VALUE GLASS WINE                4 LTR    45-54   \n",
       "2  DIAPERS & DISPOSABLES         BABY DIAPERS                14 CT    45-54   \n",
       "3  ORAL HYGIENE PRODUCTS    WHITENING SYSTEMS                 3 OZ    45-54   \n",
       "4  DIAPERS & DISPOSABLES         BABY DIAPERS                13 CT    45-54   \n",
       "\n",
       "  marital_status_code income_desc homeowner_desc hh_comp_desc  \\\n",
       "0                   U      50-74K        Unknown      Unknown   \n",
       "1                   U      50-74K        Unknown      Unknown   \n",
       "2                   U      50-74K        Unknown      Unknown   \n",
       "3                   U      50-74K        Unknown      Unknown   \n",
       "4                   U      50-74K        Unknown      Unknown   \n",
       "\n",
       "  household_size_desc kid_category_desc  \n",
       "0                   1      None/Unknown  \n",
       "1                   1      None/Unknown  \n",
       "2                   1      None/Unknown  \n",
       "3                   1      None/Unknown  \n",
       "4                   1      None/Unknown  "
      ]
     },
     "execution_count": 61,
     "metadata": {},
     "output_type": "execute_result"
    }
   ],
   "source": [
    "df_ranker_train.head()"
   ]
  },
  {
   "cell_type": "code",
   "execution_count": 62,
   "metadata": {},
   "outputs": [],
   "source": [
    "X_train = df_ranker_train.drop('target', axis=1)\n",
    "y_train = df_ranker_train[['target']]"
   ]
  },
  {
   "cell_type": "code",
   "execution_count": 63,
   "metadata": {},
   "outputs": [
    {
     "data": {
      "text/plain": [
       "['manufacturer',\n",
       " 'department',\n",
       " 'brand',\n",
       " 'commodity_desc',\n",
       " 'sub_commodity_desc',\n",
       " 'curr_size_of_product',\n",
       " 'age_desc',\n",
       " 'marital_status_code',\n",
       " 'income_desc',\n",
       " 'homeowner_desc',\n",
       " 'hh_comp_desc',\n",
       " 'household_size_desc',\n",
       " 'kid_category_desc']"
      ]
     },
     "execution_count": 63,
     "metadata": {},
     "output_type": "execute_result"
    }
   ],
   "source": [
    "cat_feats = X_train.columns[2:].tolist()\n",
    "X_train[cat_feats] = X_train[cat_feats].astype('category')\n",
    "\n",
    "cat_feats"
   ]
  },
  {
   "cell_type": "code",
   "execution_count": 64,
   "metadata": {},
   "outputs": [
    {
     "name": "stderr",
     "output_type": "stream",
     "text": [
      "C:\\ProgramData\\Anaconda3\\lib\\site-packages\\sklearn\\utils\\validation.py:72: DataConversionWarning: A column-vector y was passed when a 1d array was expected. Please change the shape of y to (n_samples, ), for example using ravel().\n",
      "  return f(**kwargs)\n",
      "C:\\ProgramData\\Anaconda3\\lib\\site-packages\\lightgbm\\basic.py:1245: UserWarning: categorical_column in param dict is overridden.\n",
      "  _log_warning('{} in param dict is overridden.'.format(cat_alias))\n"
     ]
    }
   ],
   "source": [
    "lgb = LGBMClassifier(objective='binary',\n",
    "                     max_depth=8,\n",
    "                     n_estimators=300,\n",
    "                     learning_rate=0.05,\n",
    "                     categorical_column=cat_feats)\n",
    "\n",
    "lgb.fit(X_train, y_train)\n",
    "\n",
    "train_preds = lgb.predict_proba(X_train)"
   ]
  },
  {
   "cell_type": "code",
   "execution_count": 65,
   "metadata": {},
   "outputs": [],
   "source": [
    "df_ranker_predict = df_ranker_train.copy()"
   ]
  },
  {
   "cell_type": "code",
   "execution_count": 66,
   "metadata": {},
   "outputs": [],
   "source": [
    "df_ranker_predict['proba_item_purchase'] = train_preds[:,1]"
   ]
  },
  {
   "cell_type": "code",
   "execution_count": 67,
   "metadata": {},
   "outputs": [
    {
     "data": {
      "text/html": [
       "<div>\n",
       "<style scoped>\n",
       "    .dataframe tbody tr th:only-of-type {\n",
       "        vertical-align: middle;\n",
       "    }\n",
       "\n",
       "    .dataframe tbody tr th {\n",
       "        vertical-align: top;\n",
       "    }\n",
       "\n",
       "    .dataframe thead th {\n",
       "        text-align: right;\n",
       "    }\n",
       "</style>\n",
       "<table border=\"1\" class=\"dataframe\">\n",
       "  <thead>\n",
       "    <tr style=\"text-align: right;\">\n",
       "      <th></th>\n",
       "      <th>user_id</th>\n",
       "      <th>actual</th>\n",
       "    </tr>\n",
       "  </thead>\n",
       "  <tbody>\n",
       "    <tr>\n",
       "      <th>0</th>\n",
       "      <td>1</td>\n",
       "      <td>[821867, 834484, 856942, 865456, 889248, 90795...</td>\n",
       "    </tr>\n",
       "    <tr>\n",
       "      <th>1</th>\n",
       "      <td>6</td>\n",
       "      <td>[920308, 926804, 946489, 1006718, 1017061, 107...</td>\n",
       "    </tr>\n",
       "  </tbody>\n",
       "</table>\n",
       "</div>"
      ],
      "text/plain": [
       "   user_id                                             actual\n",
       "0        1  [821867, 834484, 856942, 865456, 889248, 90795...\n",
       "1        6  [920308, 926804, 946489, 1006718, 1017061, 107..."
      ]
     },
     "execution_count": 67,
     "metadata": {},
     "output_type": "execute_result"
    }
   ],
   "source": [
    "result_eval_ranker = data_val_ranker.groupby(USER_COL)[ITEM_COL].unique().reset_index()\n",
    "result_eval_ranker.columns=[USER_COL, ACTUAL_COL]\n",
    "result_eval_ranker.head(2)"
   ]
  },
  {
   "cell_type": "code",
   "execution_count": 68,
   "metadata": {},
   "outputs": [
    {
     "name": "stdout",
     "output_type": "stream",
     "text": [
      "Wall time: 5.76 s\n"
     ]
    }
   ],
   "source": [
    "%%time\n",
    "result_eval_ranker['own_rec'] = result_eval_ranker[USER_COL].apply(lambda x: recommender.get_own_recommendations(x, N=N_PREDICT))"
   ]
  },
  {
   "cell_type": "code",
   "execution_count": 69,
   "metadata": {},
   "outputs": [
    {
     "data": {
      "text/plain": [
       "[('own_rec', 0.1462140992167092)]"
      ]
     },
     "execution_count": 69,
     "metadata": {},
     "output_type": "execute_result"
    }
   ],
   "source": [
    "# померяем precision только модели матчинга, чтобы понимать влияение ранжирования на метрики\n",
    "\n",
    "sorted(calc_precision(result_eval_ranker, TOPK_PRECISION), key=lambda x: x[1], reverse=True)"
   ]
  },
  {
   "cell_type": "code",
   "execution_count": 70,
   "metadata": {},
   "outputs": [],
   "source": [
    "def rerank(user_id):\n",
    "    return df_ranker_predict[df_ranker_predict[USER_COL]==user_id].sort_values('proba_item_purchase', ascending=False).head(5).item_id.tolist()"
   ]
  },
  {
   "cell_type": "code",
   "execution_count": 71,
   "metadata": {},
   "outputs": [],
   "source": [
    "result_eval_ranker['reranked_own_rec'] = result_eval_ranker[USER_COL].apply(lambda user_id: rerank(user_id))"
   ]
  },
  {
   "cell_type": "code",
   "execution_count": 72,
   "metadata": {},
   "outputs": [
    {
     "name": "stdout",
     "output_type": "stream",
     "text": [
      "('own_rec', 0.1462140992167092)\n",
      "('reranked_own_rec', 0.1261618798955603)\n"
     ]
    }
   ],
   "source": [
    "print(*sorted(calc_precision(result_eval_ranker, TOPK_PRECISION), key=lambda x: x[1], reverse=True), sep='\\n')"
   ]
  },
  {
   "cell_type": "code",
   "execution_count": null,
   "metadata": {},
   "outputs": [],
   "source": []
  }
 ],
 "metadata": {
  "kernelspec": {
   "display_name": "Python 3",
   "language": "python",
   "name": "python3"
  },
  "language_info": {
   "codemirror_mode": {
    "name": "ipython",
    "version": 3
   },
   "file_extension": ".py",
   "mimetype": "text/x-python",
   "name": "python",
   "nbconvert_exporter": "python",
   "pygments_lexer": "ipython3",
   "version": "3.8.5"
  }
 },
 "nbformat": 4,
 "nbformat_minor": 4
}
